{
 "cells": [
  {
   "cell_type": "markdown",
   "metadata": {},
   "source": [
    "## Python Data Science Toolbox(Part 2)\n",
    "### Practicing with World bank data"
   ]
  },
  {
   "cell_type": "code",
   "execution_count": 3,
   "metadata": {
    "scrolled": true
   },
   "outputs": [
    {
     "name": "stdout",
     "output_type": "stream",
     "text": [
      "(13374, 5)\n",
      "Index(['CountryName', 'CountryCode', 'Year', 'Total Population',\n",
      "       'Urban population (% of total)'],\n",
      "      dtype='object')\n",
      "                               CountryName CountryCode  Year  \\\n",
      "0                               Arab World         ARB  1960   \n",
      "1                   Caribbean small states         CSS  1960   \n",
      "2           Central Europe and the Baltics         CEB  1960   \n",
      "3  East Asia & Pacific (all income levels)         EAS  1960   \n",
      "4    East Asia & Pacific (developing only)         EAP  1960   \n",
      "\n",
      "   Total Population  Urban population (% of total)  \n",
      "0      9.249590e+07                      31.285384  \n",
      "1      4.190810e+06                      31.597490  \n",
      "2      9.140158e+07                      44.507921  \n",
      "3      1.042475e+09                      22.471132  \n",
      "4      8.964930e+08                      16.917679  \n"
     ]
    }
   ],
   "source": [
    "import pandas as pd\n",
    "df = pd.read_csv(\"world_ind_pop_data.csv\")\n",
    "print(df.shape)\n",
    "print(df.columns)\n",
    "print(df.head())"
   ]
  },
  {
   "cell_type": "code",
   "execution_count": null,
   "metadata": {},
   "outputs": [],
   "source": [
    "def lists2dict(list1, list2):\n",
    "    \"\"\"Return a dictionary where list1 provides the keys and list2 provides the values.\"\"\""
   ]
  },
  {
   "cell_type": "code",
   "execution_count": 5,
   "metadata": {},
   "outputs": [
    {
     "name": "stdout",
     "output_type": "stream",
     "text": [
      "245\n",
      "['Arab World' 'Caribbean small states' 'Central Europe and the Baltics'\n",
      " 'East Asia & Pacific (all income levels)'\n",
      " 'East Asia & Pacific (developing only)' 'Euro area'\n",
      " 'Europe & Central Asia (all income levels)'\n",
      " 'Europe & Central Asia (developing only)' 'European Union'\n",
      " 'Fragile and conflict affected situations'\n",
      " 'Heavily indebted poor countries (HIPC)' 'High income'\n",
      " 'High income: nonOECD' 'High income: OECD'\n",
      " 'Latin America & Caribbean (all income levels)'\n",
      " 'Latin America & Caribbean (developing only)'\n",
      " 'Least developed countries: UN classification' 'Low & middle income'\n",
      " 'Low income' 'Lower middle income'\n",
      " 'Middle East & North Africa (all income levels)'\n",
      " 'Middle East & North Africa (developing only)' 'Middle income'\n",
      " 'North America' 'OECD members' 'Other small states'\n",
      " 'Pacific island small states' 'Small states' 'South Asia'\n",
      " 'Sub-Saharan Africa (all income levels)'\n",
      " 'Sub-Saharan Africa (developing only)' 'Upper middle income' 'World'\n",
      " 'Afghanistan' 'Albania' 'Algeria' 'American Samoa' 'Andorra' 'Angola'\n",
      " 'Antigua and Barbuda' 'Argentina' 'Armenia' 'Aruba' 'Australia' 'Austria'\n",
      " 'Azerbaijan' 'Bahamas, The' 'Bahrain' 'Bangladesh' 'Barbados' 'Belarus'\n",
      " 'Belgium' 'Belize' 'Benin' 'Bermuda' 'Bhutan' 'Bolivia'\n",
      " 'Bosnia and Herzegovina' 'Botswana' 'Brazil' 'Brunei Darussalam'\n",
      " 'Bulgaria' 'Burkina Faso' 'Burundi' 'Cabo Verde' 'Cambodia' 'Cameroon'\n",
      " 'Canada' 'Cayman Islands' 'Central African Republic' 'Chad'\n",
      " 'Channel Islands' 'Chile' 'China' 'Colombia' 'Comoros' 'Congo, Dem. Rep.'\n",
      " 'Congo, Rep.' 'Costa Rica' \"Cote d'Ivoire\" 'Croatia' 'Cuba' 'Curacao'\n",
      " 'Cyprus' 'Czech Republic' 'Denmark' 'Djibouti' 'Dominica'\n",
      " 'Dominican Republic' 'Ecuador' 'Egypt, Arab Rep.' 'El Salvador'\n",
      " 'Equatorial Guinea' 'Eritrea' 'Estonia' 'Ethiopia' 'Faeroe Islands'\n",
      " 'Fiji' 'Finland' 'France' 'French Polynesia' 'Gabon' 'Gambia, The'\n",
      " 'Georgia' 'Germany' 'Ghana' 'Greece' 'Greenland' 'Grenada' 'Guam'\n",
      " 'Guatemala' 'Guinea' 'Guinea-Bissau' 'Guyana' 'Haiti' 'Honduras'\n",
      " 'Hong Kong SAR, China' 'Hungary' 'Iceland' 'India' 'Indonesia'\n",
      " 'Iran, Islamic Rep.' 'Iraq' 'Ireland' 'Isle of Man' 'Israel' 'Italy'\n",
      " 'Jamaica' 'Japan' 'Jordan' 'Kazakhstan' 'Kenya' 'Kiribati'\n",
      " 'Korea, Dem. Rep.' 'Korea, Rep.' 'Kuwait' 'Kyrgyz Republic' 'Lao PDR'\n",
      " 'Latvia' 'Lebanon' 'Lesotho' 'Liberia' 'Libya' 'Liechtenstein'\n",
      " 'Lithuania' 'Luxembourg' 'Macao SAR, China' 'Macedonia, FYR' 'Madagascar'\n",
      " 'Malawi' 'Malaysia' 'Maldives' 'Mali' 'Malta' 'Marshall Islands'\n",
      " 'Mauritania' 'Mauritius' 'Mexico' 'Micronesia, Fed. Sts.' 'Moldova'\n",
      " 'Monaco' 'Mongolia' 'Montenegro' 'Morocco' 'Mozambique' 'Myanmar'\n",
      " 'Namibia' 'Nepal' 'Netherlands' 'New Caledonia' 'New Zealand' 'Nicaragua'\n",
      " 'Niger' 'Nigeria' 'Northern Mariana Islands' 'Norway' 'Oman' 'Pakistan'\n",
      " 'Palau' 'Panama' 'Papua New Guinea' 'Paraguay' 'Peru' 'Philippines'\n",
      " 'Poland' 'Portugal' 'Puerto Rico' 'Qatar' 'Romania' 'Russian Federation'\n",
      " 'Rwanda' 'Samoa' 'San Marino' 'Sao Tome and Principe' 'Saudi Arabia'\n",
      " 'Senegal' 'Seychelles' 'Sierra Leone' 'Singapore' 'Slovak Republic'\n",
      " 'Slovenia' 'Solomon Islands' 'Somalia' 'South Africa' 'South Sudan'\n",
      " 'Spain' 'Sri Lanka' 'St. Kitts and Nevis' 'St. Lucia'\n",
      " 'St. Vincent and the Grenadines' 'Sudan' 'Suriname' 'Swaziland' 'Sweden'\n",
      " 'Switzerland' 'Syrian Arab Republic' 'Tajikistan' 'Tanzania' 'Thailand'\n",
      " 'Timor-Leste' 'Togo' 'Tonga' 'Trinidad and Tobago' 'Tunisia' 'Turkey'\n",
      " 'Turkmenistan' 'Turks and Caicos Islands' 'Tuvalu' 'Uganda' 'Ukraine'\n",
      " 'United Arab Emirates' 'United Kingdom' 'United States' 'Uruguay'\n",
      " 'Uzbekistan' 'Vanuatu' 'Venezuela, RB' 'Vietnam' 'Virgin Islands (U.S.)'\n",
      " 'Yemen, Rep.' 'Zambia' 'Zimbabwe' 'Serbia' 'West Bank and Gaza'\n",
      " 'Sint Maarten (Dutch part)']\n"
     ]
    }
   ],
   "source": [
    "print(df['CountryName'].nunique())\n",
    "print(df['CountryName'].unique())"
   ]
  },
  {
   "cell_type": "code",
   "execution_count": 6,
   "metadata": {},
   "outputs": [
    {
     "name": "stdout",
     "output_type": "stream",
     "text": [
      "       CountryName CountryCode  Year  Total Population  \\\n",
      "134    Korea, Rep.         KOR  1960        25012374.0   \n",
      "376    Korea, Rep.         KOR  1961        25765673.0   \n",
      "618    Korea, Rep.         KOR  1962        26513030.0   \n",
      "860    Korea, Rep.         KOR  1963        27261747.0   \n",
      "1102   Korea, Rep.         KOR  1964        27984155.0   \n",
      "1344   Korea, Rep.         KOR  1965        28704674.0   \n",
      "1586   Korea, Rep.         KOR  1966        29435571.0   \n",
      "1828   Korea, Rep.         KOR  1967        30130983.0   \n",
      "2070   Korea, Rep.         KOR  1968        30838302.0   \n",
      "2312   Korea, Rep.         KOR  1969        31544266.0   \n",
      "2554   Korea, Rep.         KOR  1970        32240827.0   \n",
      "2796   Korea, Rep.         KOR  1971        32882704.0   \n",
      "3038   Korea, Rep.         KOR  1972        33505406.0   \n",
      "3280   Korea, Rep.         KOR  1973        34103149.0   \n",
      "3522   Korea, Rep.         KOR  1974        34692266.0   \n",
      "3764   Korea, Rep.         KOR  1975        35280725.0   \n",
      "4006   Korea, Rep.         KOR  1976        35848523.0   \n",
      "4248   Korea, Rep.         KOR  1977        36411795.0   \n",
      "4490   Korea, Rep.         KOR  1978        36969185.0   \n",
      "4732   Korea, Rep.         KOR  1979        37534236.0   \n",
      "4974   Korea, Rep.         KOR  1980        38123775.0   \n",
      "5216   Korea, Rep.         KOR  1981        38723248.0   \n",
      "5458   Korea, Rep.         KOR  1982        39326352.0   \n",
      "5700   Korea, Rep.         KOR  1983        39910403.0   \n",
      "5942   Korea, Rep.         KOR  1984        40405956.0   \n",
      "6184   Korea, Rep.         KOR  1985        40805744.0   \n",
      "6426   Korea, Rep.         KOR  1986        41213674.0   \n",
      "6668   Korea, Rep.         KOR  1987        41621690.0   \n",
      "6910   Korea, Rep.         KOR  1988        42031247.0   \n",
      "7152   Korea, Rep.         KOR  1989        42449038.0   \n",
      "7394   Korea, Rep.         KOR  1990        42869283.0   \n",
      "7638   Korea, Rep.         KOR  1991        43295704.0   \n",
      "7882   Korea, Rep.         KOR  1992        43747962.0   \n",
      "8125   Korea, Rep.         KOR  1993        44194628.0   \n",
      "8368   Korea, Rep.         KOR  1994        44641540.0   \n",
      "8611   Korea, Rep.         KOR  1995        45092991.0   \n",
      "8855   Korea, Rep.         KOR  1996        45524681.0   \n",
      "9099   Korea, Rep.         KOR  1997        45953580.0   \n",
      "9343   Korea, Rep.         KOR  1998        46286503.0   \n",
      "9588   Korea, Rep.         KOR  1999        46616677.0   \n",
      "9833   Korea, Rep.         KOR  2000        47008111.0   \n",
      "10078  Korea, Rep.         KOR  2001        47357362.0   \n",
      "10323  Korea, Rep.         KOR  2002        47622179.0   \n",
      "10568  Korea, Rep.         KOR  2003        47859311.0   \n",
      "10813  Korea, Rep.         KOR  2004        48039415.0   \n",
      "11058  Korea, Rep.         KOR  2005        48138077.0   \n",
      "11303  Korea, Rep.         KOR  2006        48371946.0   \n",
      "11548  Korea, Rep.         KOR  2007        48597652.0   \n",
      "11793  Korea, Rep.         KOR  2008        48948698.0   \n",
      "12038  Korea, Rep.         KOR  2009        49182038.0   \n",
      "12283  Korea, Rep.         KOR  2010        49410366.0   \n",
      "12528  Korea, Rep.         KOR  2011        49779440.0   \n",
      "12773  Korea, Rep.         KOR  2012        50004441.0   \n",
      "13018  Korea, Rep.         KOR  2013        50219669.0   \n",
      "13263  Korea, Rep.         KOR  2014        50423955.0   \n",
      "\n",
      "       Urban population (% of total)  \n",
      "134                           27.710  \n",
      "376                           28.531  \n",
      "618                           29.461  \n",
      "860                           30.407  \n",
      "1102                          31.372  \n",
      "1344                          32.351  \n",
      "1586                          33.347  \n",
      "1828                          34.971  \n",
      "2070                          36.846  \n",
      "2312                          38.756  \n",
      "2554                          40.704  \n",
      "2796                          42.261  \n",
      "3038                          43.692  \n",
      "3280                          45.131  \n",
      "3522                          46.579  \n",
      "3764                          48.033  \n",
      "4006                          49.719  \n",
      "4248                          51.476  \n",
      "4490                          53.233  \n",
      "4732                          54.981  \n",
      "4974                          56.720  \n",
      "5216                          58.407  \n",
      "5458                          60.061  \n",
      "5700                          61.693  \n",
      "5942                          63.301  \n",
      "6184                          64.876  \n",
      "6426                          66.679  \n",
      "6668                          68.563  \n",
      "6910                          70.389  \n",
      "7152                          72.148  \n",
      "7394                          73.844  \n",
      "7638                          74.972  \n",
      "7882                          75.820  \n",
      "8125                          76.645  \n",
      "8368                          77.452  \n",
      "8611                          78.239  \n",
      "8855                          78.662  \n",
      "9099                          78.905  \n",
      "9343                          79.145  \n",
      "9588                          79.384  \n",
      "9833                          79.621  \n",
      "10078                         79.940  \n",
      "10323                         80.299  \n",
      "10568                         80.652  \n",
      "10813                         81.002  \n",
      "11058                         81.345  \n",
      "11303                         81.528  \n",
      "11548                         81.631  \n",
      "11793                         81.733  \n",
      "12038                         81.835  \n",
      "12283                         81.936  \n",
      "12528                         82.037  \n",
      "12773                         82.141  \n",
      "13018                         82.249  \n",
      "13263                         82.360  \n"
     ]
    }
   ],
   "source": [
    "Korea = df[df['CountryName']=='Korea, Rep.']\n",
    "print(Korea)"
   ]
  },
  {
   "cell_type": "code",
   "execution_count": 9,
   "metadata": {},
   "outputs": [
    {
     "name": "stdout",
     "output_type": "stream",
     "text": [
      "       Year  Total Population\n",
      "134    1960        25012374.0\n",
      "376    1961        25765673.0\n",
      "618    1962        26513030.0\n",
      "860    1963        27261747.0\n",
      "1102   1964        27984155.0\n",
      "1344   1965        28704674.0\n",
      "1586   1966        29435571.0\n",
      "1828   1967        30130983.0\n",
      "2070   1968        30838302.0\n",
      "2312   1969        31544266.0\n",
      "2554   1970        32240827.0\n",
      "2796   1971        32882704.0\n",
      "3038   1972        33505406.0\n",
      "3280   1973        34103149.0\n",
      "3522   1974        34692266.0\n",
      "3764   1975        35280725.0\n",
      "4006   1976        35848523.0\n",
      "4248   1977        36411795.0\n",
      "4490   1978        36969185.0\n",
      "4732   1979        37534236.0\n",
      "4974   1980        38123775.0\n",
      "5216   1981        38723248.0\n",
      "5458   1982        39326352.0\n",
      "5700   1983        39910403.0\n",
      "5942   1984        40405956.0\n",
      "6184   1985        40805744.0\n",
      "6426   1986        41213674.0\n",
      "6668   1987        41621690.0\n",
      "6910   1988        42031247.0\n",
      "7152   1989        42449038.0\n",
      "7394   1990        42869283.0\n",
      "7638   1991        43295704.0\n",
      "7882   1992        43747962.0\n",
      "8125   1993        44194628.0\n",
      "8368   1994        44641540.0\n",
      "8611   1995        45092991.0\n",
      "8855   1996        45524681.0\n",
      "9099   1997        45953580.0\n",
      "9343   1998        46286503.0\n",
      "9588   1999        46616677.0\n",
      "9833   2000        47008111.0\n",
      "10078  2001        47357362.0\n",
      "10323  2002        47622179.0\n",
      "10568  2003        47859311.0\n",
      "10813  2004        48039415.0\n",
      "11058  2005        48138077.0\n",
      "11303  2006        48371946.0\n",
      "11548  2007        48597652.0\n",
      "11793  2008        48948698.0\n",
      "12038  2009        49182038.0\n",
      "12283  2010        49410366.0\n",
      "12528  2011        49779440.0\n",
      "12773  2012        50004441.0\n",
      "13018  2013        50219669.0\n",
      "13263  2014        50423955.0\n"
     ]
    },
    {
     "data": {
      "text/plain": [
       "[<matplotlib.lines.Line2D at 0x11e9457d0>]"
      ]
     },
     "execution_count": 9,
     "metadata": {},
     "output_type": "execute_result"
    },
    {
     "data": {
      "image/png": "[encoded data removed]",
      "text/plain": [
       "<Figure size 432x288 with 1 Axes>"
      ]
     },
     "metadata": {
      "needs_background": "light"
     },
     "output_type": "display_data"
    }
   ],
   "source": [
    "import matplotlib.pyplot as plt\n",
    "kor_pop = Korea[['Year', 'Total Population']]\n",
    "print(kor_pop)\n",
    "plt.plot(kor_pop['Year'], kor_pop['Total Population'])\n",
    "#plt.show()"
   ]
  },
  {
   "cell_type": "code",
   "execution_count": null,
   "metadata": {},
   "outputs": [],
   "source": []
  }
 ],
 "metadata": {
  "kernelspec": {
   "display_name": "Python 3",
   "language": "python",
   "name": "python3"
  },
  "language_info": {
   "codemirror_mode": {
    "name": "ipython",
    "version": 3
   },
   "file_extension": ".py",
   "mimetype": "text/x-python",
   "name": "python",
   "nbconvert_exporter": "python",
   "pygments_lexer": "ipython3",
   "version": "3.7.4"
  }
 },
 "nbformat": 4,
 "nbformat_minor": 2
}
