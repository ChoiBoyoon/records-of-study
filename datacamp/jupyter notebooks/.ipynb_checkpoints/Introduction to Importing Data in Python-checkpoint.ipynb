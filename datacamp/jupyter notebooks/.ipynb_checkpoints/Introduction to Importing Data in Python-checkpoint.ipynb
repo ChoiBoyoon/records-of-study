{
 "cells": [
  {
   "cell_type": "code",
   "execution_count": 1,
   "metadata": {
    "scrolled": false
   },
   "outputs": [
    {
     "name": "stdout",
     "output_type": "stream",
     "text": [
      "[[1. 0. 0. ... 0. 0. 0.]\n",
      " [0. 0. 0. ... 0. 0. 0.]\n",
      " [1. 0. 0. ... 0. 0. 0.]\n",
      " ...\n",
      " [2. 0. 0. ... 0. 0. 0.]\n",
      " [0. 0. 0. ... 0. 0. 0.]\n",
      " [5. 0. 0. ... 0. 0. 0.]]\n"
     ]
    }
   ],
   "source": [
    "import numpy as np\n",
    "mnist_filename = 'mnist_kaggle_some_rows.csv'\n",
    "data = np.loadtxt(mnist_filename, delimiter=',')\n",
    "print(data)"
   ]
  },
  {
   "cell_type": "markdown",
   "metadata": {},
   "source": [
    "### battledeaths dataset\n",
    "* modified from the Peace Research Institute Oslo (PRIO)\n",
    "* contains age-adjusted mortality rates due to war in various countires over several years(for the period 1946–2008)\n",
    "* https://www.prio.org/data/1"
   ]
  },
  {
   "cell_type": "code",
   "execution_count": 20,
   "metadata": {},
   "outputs": [
    {
     "name": "stdout",
     "output_type": "stream",
     "text": [
      "['bdonly']\n",
      "<pandas.io.excel._base.ExcelFile object at 0x11b241190>\n",
      "    year  bdeadlow  bdeadhig  bdeadbes  annualdata  source  bdversion  \\\n",
      "id                                                                      \n",
      "1   1946      1000      9999      1000           2       1        3.1   \n",
      "1   1952       450      3000      -999           2       1        3.1   \n",
      "1   1967        25       999        82           2       1        3.1   \n",
      "2   1946        25       999      -999           0       0        3.1   \n",
      "2   1947        25       999      -999           0       0        3.1   \n",
      "\n",
      "    location    sidea sidea2nd  ... epend  ependdate  ependprec gwnoa  \\\n",
      "id                              ...                                     \n",
      "1    Bolivia  Bolivia      NaN  ...     1 1946-07-21      -99.0   145   \n",
      "1    Bolivia  Bolivia      NaN  ...     1 1952-04-12      -99.0   145   \n",
      "1    Bolivia  Bolivia      NaN  ...     1 1967-10-16      -99.0   145   \n",
      "2   Cambodia   France      NaN  ...     0        NaT        NaN   220   \n",
      "2   Cambodia   France      NaN  ...     0        NaT        NaN   220   \n",
      "\n",
      "    gwnoa2nd  gwnob  gwnob2nd gwnoloc  region version  \n",
      "id                                                     \n",
      "1        NaN    NaN       NaN     145       5  2009-4  \n",
      "1        NaN    NaN       NaN     145       5  2009-4  \n",
      "1        NaN    NaN       NaN     145       5  2009-4  \n",
      "2        NaN    NaN       NaN     811       3  2009-4  \n",
      "2        NaN    NaN       NaN     811       3  2009-4  \n",
      "\n",
      "[5 rows x 31 columns]\n"
     ]
    }
   ],
   "source": [
    "import pandas as pd\n",
    "file = 'PRIO Battle Deaths Dataset 3.1.xls'\n",
    "xls = pd.ExcelFile(file)\n",
    "print(xls.sheet_names)\n",
    "print(xls)\n",
    "df1 = xls.parse(0, index_col=0)\n",
    "print(df1.head())"
   ]
  },
  {
   "cell_type": "markdown",
   "metadata": {},
   "source": [
    "### SAS: Statistical Analysis Systems\n",
    "* for business analytics, biostatistics\n",
    "* extension: <b>.sas7bdat</b>\n",
    "* toy data: http://www.principlesofeconometrics.com/poe5/poe5data.html (from Principles of Econometrics, 5th edition)"
   ]
  },
  {
   "cell_type": "code",
   "execution_count": 21,
   "metadata": {},
   "outputs": [
    {
     "ename": "ModuleNotFoundError",
     "evalue": "No module named 'sas7bdat'",
     "output_type": "error",
     "traceback": [
      "\u001b[0;31m---------------------------------------------------------------------------\u001b[0m",
      "\u001b[0;31mModuleNotFoundError\u001b[0m                       Traceback (most recent call last)",
      "\u001b[0;32m<ipython-input-21-3012529144e6>\u001b[0m in \u001b[0;36m<module>\u001b[0;34m\u001b[0m\n\u001b[0;32m----> 1\u001b[0;31m \u001b[0;32mfrom\u001b[0m \u001b[0msas7bdat\u001b[0m \u001b[0;32mimport\u001b[0m \u001b[0mSAS7BDAT\u001b[0m\u001b[0;34m\u001b[0m\u001b[0;34m\u001b[0m\u001b[0m\n\u001b[0m\u001b[1;32m      2\u001b[0m \u001b[0;34m\u001b[0m\u001b[0m\n\u001b[1;32m      3\u001b[0m \u001b[0;32mwith\u001b[0m \u001b[0mSAS7BDAT\u001b[0m\u001b[0;34m(\u001b[0m\u001b[0;34m'sales.sas7bdat'\u001b[0m\u001b[0;34m)\u001b[0m \u001b[0;32mas\u001b[0m \u001b[0mfile\u001b[0m\u001b[0;34m:\u001b[0m\u001b[0;34m\u001b[0m\u001b[0;34m\u001b[0m\u001b[0m\n\u001b[1;32m      4\u001b[0m     \u001b[0mdf_sas\u001b[0m \u001b[0;34m=\u001b[0m \u001b[0mfile\u001b[0m\u001b[0;34m.\u001b[0m\u001b[0mto_data_frame\u001b[0m\u001b[0;34m(\u001b[0m\u001b[0;34m)\u001b[0m\u001b[0;34m\u001b[0m\u001b[0;34m\u001b[0m\u001b[0m\n\u001b[1;32m      5\u001b[0m \u001b[0;34m\u001b[0m\u001b[0m\n",
      "\u001b[0;31mModuleNotFoundError\u001b[0m: No module named 'sas7bdat'"
     ]
    }
   ],
   "source": [
    "from sas7bdat import SAS7BDAT\n",
    "import pandas as pd\n",
    "\n",
    "df = pd.read_sas('sales.sas7dbat')\n",
    "print(df.head())\n",
    "\n",
    "with SAS7BDAT('sales.sas7bdat') as file:\n",
    "    df_sas = file.to_data_frame()\n",
    "    \n",
    "print(df_sas.head())\n",
    "\n",
    "#plot histogram\n",
    "pd.DataFrame.hist(df_sas[['P']])\n",
    "plt.ylabel('count')\n",
    "plt.show()"
   ]
  },
  {
   "cell_type": "code",
   "execution_count": 4,
   "metadata": {},
   "outputs": [
    {
     "name": "stdout",
     "output_type": "stream",
     "text": [
      "55\n",
      "6765\n"
     ]
    }
   ],
   "source": [
    "#Fibonacci\n",
    "def fib(n:int)-> int:\n",
    "    if n<2:\n",
    "        return n\n",
    "    return fib(n-2)+fib(n-1)\n",
    "\n",
    "def test():\n",
    "    \n",
    "    if __name__ == \"__main__\":\n",
    "        print(fib(10))    \n",
    "        print(fib(20))    \n",
    "\n",
    "test()"
   ]
  },
  {
   "cell_type": "code",
   "execution_count": 7,
   "metadata": {},
   "outputs": [
    {
     "name": "stdout",
     "output_type": "stream",
     "text": [
      "55\n",
      "6765\n",
      "{0: 0, 1: 1, 2: 1, 3: 2, 4: 3, 5: 5, 6: 8, 7: 13, 8: 21, 9: 34, 10: 55, 11: 89, 12: 144, 13: 233, 14: 377, 15: 610, 16: 987, 17: 1597, 18: 2584, 19: 4181, 20: 6765}\n"
     ]
    }
   ],
   "source": [
    "#using memorization (dict)\n",
    "from typing import Dict\n",
    "memo: Dict[int, int] = {0:0, 1:1}\n",
    "def fib(n:int)->int:\n",
    "    if n not in memo:\n",
    "        memo[n] = fib(n-2)+fib(n-1)\n",
    "    return memo[n]\n",
    "test()\n",
    "print(memo)"
   ]
  },
  {
   "cell_type": "code",
   "execution_count": 9,
   "metadata": {},
   "outputs": [
    {
     "name": "stdout",
     "output_type": "stream",
     "text": [
      "55\n",
      "6765\n"
     ]
    }
   ],
   "source": [
    "#using automatic memorization\n",
    "from functools import lru_cache\n",
    "\n",
    "@lru_cache(maxsize=None)\n",
    "def fib(n:int) -> int:\n",
    "    if n<2:\n",
    "        return n\n",
    "    return fib(n-2)+fib(n-1)\n",
    "\n",
    "test()"
   ]
  },
  {
   "cell_type": "code",
   "execution_count": 10,
   "metadata": {},
   "outputs": [
    {
     "name": "stdout",
     "output_type": "stream",
     "text": [
      "55\n",
      "6765\n"
     ]
    }
   ],
   "source": [
    "#optimal solution(iterative, time complextiy O(n))\n",
    "def fib(n:int) -> int:\n",
    "    if n==0:\n",
    "        return 0\n",
    "    last: int=0\n",
    "    next: int=1\n",
    "    for _ in range(1,n):\n",
    "        last, next = next,last+next\n",
    "    return next\n",
    "\n",
    "test()"
   ]
  },
  {
   "cell_type": "code",
   "execution_count": 13,
   "metadata": {},
   "outputs": [
    {
     "name": "stdout",
     "output_type": "stream",
     "text": [
      "[0]: 0\n",
      "[1]: 1\n",
      "[2]: 2\n",
      "[3]: 3\n",
      "[4]: 5\n",
      "[5]: 8\n",
      "[6]: 13\n",
      "[7]: 21\n",
      "[8]: 34\n",
      "[9]: 55\n",
      "[10]: 89\n",
      "[11]: 144\n",
      "[12]: 233\n",
      "[13]: 377\n",
      "[14]: 610\n",
      "[15]: 987\n",
      "[16]: 1597\n",
      "[17]: 2584\n",
      "[18]: 4181\n",
      "[19]: 6765\n",
      "[20]: 10946\n",
      "[21]: 17711\n",
      "[22]: 28657\n",
      "[23]: 46368\n",
      "[24]: 75025\n",
      "[25]: 121393\n",
      "[26]: 196418\n",
      "[27]: 317811\n",
      "[28]: 514229\n",
      "[29]: 832040\n"
     ]
    }
   ],
   "source": [
    "#optimal solution using Generator\n",
    "from typing import Generator\n",
    "def fib(n:int) -> Generator[int, None, None]:\n",
    "    yield 0\n",
    "    if n==0:\n",
    "        return\n",
    "    last: int=0\n",
    "    next: int=1\n",
    "    for _ in range(1,n):\n",
    "        last, next = next,last+next\n",
    "        yield next\n",
    "        \n",
    "if __name__ == \"__main__\":\n",
    "    for i, v in enumerate(list(fib(30))):\n",
    "        print(\"[{}]: {}\".format(i, v))\n",
    "        \n",
    "        \n",
    "        "
   ]
  },
  {
   "cell_type": "code",
   "execution_count": null,
   "metadata": {},
   "outputs": [],
   "source": []
  }
 ],
 "metadata": {
  "kernelspec": {
   "display_name": "Python 3",
   "language": "python",
   "name": "python3"
  },
  "language_info": {
   "codemirror_mode": {
    "name": "ipython",
    "version": 3
   },
   "file_extension": ".py",
   "mimetype": "text/x-python",
   "name": "python",
   "nbconvert_exporter": "python",
   "pygments_lexer": "ipython3",
   "version": "3.7.4"
  }
 },
 "nbformat": 4,
 "nbformat_minor": 2
}
