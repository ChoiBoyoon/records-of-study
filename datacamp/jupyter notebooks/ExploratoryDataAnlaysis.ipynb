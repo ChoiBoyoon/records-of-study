{
 "cells": [
  {
   "cell_type": "code",
   "execution_count": 5,
   "metadata": {
    "scrolled": true
   },
   "outputs": [
    {
     "name": "stdout",
     "output_type": "stream",
     "text": [
      "<class 'pandas.core.frame.DataFrame'>\n",
      "   year   age  cohort  sex  race  educ  realinc  gunlaw  grass  wtssall\n",
      "0  1972  26.0  1946.0    1     1  18.0  13537.0     2.0    NaN   0.8893\n",
      "1  1972  38.0  1934.0    2     1  12.0  18951.0     1.0    NaN   0.4446\n",
      "2  1972  57.0  1915.0    1     1  12.0  30458.0     1.0    NaN   1.3339\n",
      "3  1972  61.0  1911.0    2     1  14.0  37226.0     1.0    NaN   0.8893\n",
      "4  1972  59.0  1913.0    1     1  12.0  30458.0     2.0    NaN   0.8893\n",
      "(62466, 10)\n",
      "Index(['year', 'age', 'cohort', 'sex', 'race', 'educ', 'realinc', 'gunlaw',\n",
      "       'grass', 'wtssall'],\n",
      "      dtype='object')\n"
     ]
    }
   ],
   "source": [
    "import pandas as pd\n",
    "\n",
    "gss = pd.read_hdf('gss.hdf5')\n",
    "print(type(gss))\n",
    "print(gss.head())\n",
    "print(gss.shape)\n",
    "print(gss.columns)"
   ]
  },
  {
   "cell_type": "markdown",
   "metadata": {},
   "source": [
    "### columns\n",
    "* <b>sex</b>: 1 for male, 2 for female\n",
    "* <b>educ</b>: years of education. (12 years means the respondent has completed high school.)\n",
    "* <b>realinc</b>: income"
   ]
  },
  {
   "cell_type": "code",
   "execution_count": 6,
   "metadata": {},
   "outputs": [
    {
     "name": "stdout",
     "output_type": "stream",
     "text": [
      "<class 'pandas.core.frame.DataFrame'>\n",
      "Int64Index: 62466 entries, 0 to 62465\n",
      "Data columns (total 10 columns):\n",
      "year       62466 non-null int64\n",
      "age        62281 non-null float64\n",
      "cohort     62282 non-null float64\n",
      "sex        62466 non-null int64\n",
      "race       62466 non-null int64\n",
      "educ       62304 non-null float64\n",
      "realinc    55499 non-null float64\n",
      "gunlaw     40550 non-null float64\n",
      "grass      36222 non-null float64\n",
      "wtssall    62466 non-null float64\n",
      "dtypes: float64(7), int64(3)\n",
      "memory usage: 5.2 MB\n"
     ]
    }
   ],
   "source": [
    "gss.info()"
   ]
  },
  {
   "cell_type": "code",
   "execution_count": 7,
   "metadata": {
    "scrolled": true
   },
   "outputs": [
    {
     "data": {
      "text/html": [
       "<div>\n",
       "<style scoped>\n",
       "    .dataframe tbody tr th:only-of-type {\n",
       "        vertical-align: middle;\n",
       "    }\n",
       "\n",
       "    .dataframe tbody tr th {\n",
       "        vertical-align: top;\n",
       "    }\n",
       "\n",
       "    .dataframe thead th {\n",
       "        text-align: right;\n",
       "    }\n",
       "</style>\n",
       "<table border=\"1\" class=\"dataframe\">\n",
       "  <thead>\n",
       "    <tr style=\"text-align: right;\">\n",
       "      <th></th>\n",
       "      <th>year</th>\n",
       "      <th>age</th>\n",
       "      <th>cohort</th>\n",
       "      <th>sex</th>\n",
       "      <th>race</th>\n",
       "      <th>educ</th>\n",
       "      <th>realinc</th>\n",
       "      <th>gunlaw</th>\n",
       "      <th>grass</th>\n",
       "      <th>wtssall</th>\n",
       "    </tr>\n",
       "  </thead>\n",
       "  <tbody>\n",
       "    <tr>\n",
       "      <td>count</td>\n",
       "      <td>62466.000000</td>\n",
       "      <td>62281.000000</td>\n",
       "      <td>62282.000000</td>\n",
       "      <td>62466.000000</td>\n",
       "      <td>62466.000000</td>\n",
       "      <td>62304.000000</td>\n",
       "      <td>55499.000000</td>\n",
       "      <td>40550.000000</td>\n",
       "      <td>36222.000000</td>\n",
       "      <td>62466.000000</td>\n",
       "    </tr>\n",
       "    <tr>\n",
       "      <td>mean</td>\n",
       "      <td>1994.072359</td>\n",
       "      <td>44.648320</td>\n",
       "      <td>1949.429996</td>\n",
       "      <td>1.541415</td>\n",
       "      <td>1.254955</td>\n",
       "      <td>12.831311</td>\n",
       "      <td>34702.430164</td>\n",
       "      <td>1.237534</td>\n",
       "      <td>1.695572</td>\n",
       "      <td>1.213340</td>\n",
       "    </tr>\n",
       "    <tr>\n",
       "      <td>std</td>\n",
       "      <td>12.937941</td>\n",
       "      <td>17.072244</td>\n",
       "      <td>20.734302</td>\n",
       "      <td>0.498286</td>\n",
       "      <td>0.554694</td>\n",
       "      <td>3.117027</td>\n",
       "      <td>30665.659411</td>\n",
       "      <td>0.425577</td>\n",
       "      <td>0.460171</td>\n",
       "      <td>0.585544</td>\n",
       "    </tr>\n",
       "    <tr>\n",
       "      <td>min</td>\n",
       "      <td>1972.000000</td>\n",
       "      <td>18.000000</td>\n",
       "      <td>1883.000000</td>\n",
       "      <td>1.000000</td>\n",
       "      <td>1.000000</td>\n",
       "      <td>0.000000</td>\n",
       "      <td>234.000000</td>\n",
       "      <td>1.000000</td>\n",
       "      <td>1.000000</td>\n",
       "      <td>0.411898</td>\n",
       "    </tr>\n",
       "    <tr>\n",
       "      <td>25%</td>\n",
       "      <td>1984.000000</td>\n",
       "      <td>30.000000</td>\n",
       "      <td>1935.000000</td>\n",
       "      <td>1.000000</td>\n",
       "      <td>1.000000</td>\n",
       "      <td>12.000000</td>\n",
       "      <td>13750.000000</td>\n",
       "      <td>1.000000</td>\n",
       "      <td>1.000000</td>\n",
       "      <td>0.918400</td>\n",
       "    </tr>\n",
       "    <tr>\n",
       "      <td>50%</td>\n",
       "      <td>1994.000000</td>\n",
       "      <td>43.000000</td>\n",
       "      <td>1951.000000</td>\n",
       "      <td>2.000000</td>\n",
       "      <td>1.000000</td>\n",
       "      <td>12.000000</td>\n",
       "      <td>26015.000000</td>\n",
       "      <td>1.000000</td>\n",
       "      <td>2.000000</td>\n",
       "      <td>1.062100</td>\n",
       "    </tr>\n",
       "    <tr>\n",
       "      <td>75%</td>\n",
       "      <td>2006.000000</td>\n",
       "      <td>57.000000</td>\n",
       "      <td>1964.000000</td>\n",
       "      <td>2.000000</td>\n",
       "      <td>1.000000</td>\n",
       "      <td>15.000000</td>\n",
       "      <td>43426.000000</td>\n",
       "      <td>1.000000</td>\n",
       "      <td>2.000000</td>\n",
       "      <td>1.515500</td>\n",
       "    </tr>\n",
       "    <tr>\n",
       "      <td>max</td>\n",
       "      <td>2016.000000</td>\n",
       "      <td>89.000000</td>\n",
       "      <td>1998.000000</td>\n",
       "      <td>2.000000</td>\n",
       "      <td>3.000000</td>\n",
       "      <td>20.000000</td>\n",
       "      <td>162607.000000</td>\n",
       "      <td>2.000000</td>\n",
       "      <td>2.000000</td>\n",
       "      <td>8.739876</td>\n",
       "    </tr>\n",
       "  </tbody>\n",
       "</table>\n",
       "</div>"
      ],
      "text/plain": [
       "               year           age        cohort           sex          race  \\\n",
       "count  62466.000000  62281.000000  62282.000000  62466.000000  62466.000000   \n",
       "mean    1994.072359     44.648320   1949.429996      1.541415      1.254955   \n",
       "std       12.937941     17.072244     20.734302      0.498286      0.554694   \n",
       "min     1972.000000     18.000000   1883.000000      1.000000      1.000000   \n",
       "25%     1984.000000     30.000000   1935.000000      1.000000      1.000000   \n",
       "50%     1994.000000     43.000000   1951.000000      2.000000      1.000000   \n",
       "75%     2006.000000     57.000000   1964.000000      2.000000      1.000000   \n",
       "max     2016.000000     89.000000   1998.000000      2.000000      3.000000   \n",
       "\n",
       "               educ        realinc        gunlaw         grass       wtssall  \n",
       "count  62304.000000   55499.000000  40550.000000  36222.000000  62466.000000  \n",
       "mean      12.831311   34702.430164      1.237534      1.695572      1.213340  \n",
       "std        3.117027   30665.659411      0.425577      0.460171      0.585544  \n",
       "min        0.000000     234.000000      1.000000      1.000000      0.411898  \n",
       "25%       12.000000   13750.000000      1.000000      1.000000      0.918400  \n",
       "50%       12.000000   26015.000000      1.000000      2.000000      1.062100  \n",
       "75%       15.000000   43426.000000      1.000000      2.000000      1.515500  \n",
       "max       20.000000  162607.000000      2.000000      2.000000      8.739876  "
      ]
     },
     "execution_count": 7,
     "metadata": {},
     "output_type": "execute_result"
    }
   ],
   "source": [
    "gss.describe()"
   ]
  },
  {
   "cell_type": "markdown",
   "metadata": {},
   "source": [
    "* year: from 1972 to 2016\n",
    "* age: from 18 to 89\n",
    "* race: 1, 2, 3????"
   ]
  },
  {
   "cell_type": "code",
   "execution_count": null,
   "metadata": {},
   "outputs": [],
   "source": []
  }
 ],
 "metadata": {
  "kernelspec": {
   "display_name": "Python 3",
   "language": "python",
   "name": "python3"
  },
  "language_info": {
   "codemirror_mode": {
    "name": "ipython",
    "version": 3
   },
   "file_extension": ".py",
   "mimetype": "text/x-python",
   "name": "python",
   "nbconvert_exporter": "python",
   "pygments_lexer": "ipython3",
   "version": "3.7.4"
  }
 },
 "nbformat": 4,
 "nbformat_minor": 2
}
