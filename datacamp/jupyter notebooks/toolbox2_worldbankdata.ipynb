{
 "cells": [
  {
   "cell_type": "markdown",
   "metadata": {},
   "source": [
    "## Python Data Science Toolbox(Part 2)\n",
    "### Practicing with World bank data"
   ]
  },
  {
   "cell_type": "code",
   "execution_count": 3,
   "metadata": {
    "scrolled": false
   },
   "outputs": [
    {
     "name": "stdout",
     "output_type": "stream",
     "text": [
      "(13374, 5)\n",
      "Index(['CountryName', 'CountryCode', 'Year', 'Total Population',\n",
      "       'Urban population (% of total)'],\n",
      "      dtype='object')\n",
      "                               CountryName CountryCode  Year  \\\n",
      "0                               Arab World         ARB  1960   \n",
      "1                   Caribbean small states         CSS  1960   \n",
      "2           Central Europe and the Baltics         CEB  1960   \n",
      "3  East Asia & Pacific (all income levels)         EAS  1960   \n",
      "4    East Asia & Pacific (developing only)         EAP  1960   \n",
      "\n",
      "   Total Population  Urban population (% of total)  \n",
      "0      9.249590e+07                      31.285384  \n",
      "1      4.190810e+06                      31.597490  \n",
      "2      9.140158e+07                      44.507921  \n",
      "3      1.042475e+09                      22.471132  \n",
      "4      8.964930e+08                      16.917679  \n"
     ]
    }
   ],
   "source": [
    "import pandas as pd\n",
    "df = pd.read_csv(\"world_ind_pop_data.csv\")\n",
    "print(df.shape)\n",
    "print(df.columns)\n",
    "print(df.head())"
   ]
  },
  {
   "cell_type": "code",
   "execution_count": 60,
   "metadata": {},
   "outputs": [
    {
     "name": "stdout",
     "output_type": "stream",
     "text": [
      "          CountryName CountryCode\n",
      "0               Aruba         ABW\n",
      "1             Andorra         ADO\n",
      "2         Afghanistan         AFG\n",
      "3              Angola         AGO\n",
      "4             Albania         ALB\n",
      "..                ...         ...\n",
      "240       Yemen, Rep.         YEM\n",
      "241      South Africa         ZAF\n",
      "242  Congo, Dem. Rep.         ZAR\n",
      "243            Zambia         ZMB\n",
      "244          Zimbabwe         ZWE\n",
      "\n",
      "[245 rows x 2 columns]\n",
      "   CountryName CountryCode\n",
      "38       China         CHN\n"
     ]
    }
   ],
   "source": [
    "import numpy as np\n",
    "df2 = df[['CountryName', 'CountryCode']]\n",
    "country_codes = df2.drop_duplicates().sort_values(by='CountryCode').reset_index(drop=True)\n",
    "print(country_codes)\n",
    "print(country_codes[country_codes['CountryName']=='China'])\n",
    "#print(np.sort(df['CountryCode'].unique()))"
   ]
  },
  {
   "cell_type": "code",
   "execution_count": null,
   "metadata": {},
   "outputs": [],
   "source": [
    "def lists2dict(list1, list2):\n",
    "    \"\"\"Return a dictionary where list1 provides the keys and list2 provides the values.\"\"\"\n",
    "    zipped_lists = zip(list1, list2)\n",
    "    rs_dict = dict(zipped_lists)\n",
    "    return rs_dict"
   ]
  },
  {
   "cell_type": "code",
   "execution_count": 5,
   "metadata": {},
   "outputs": [
    {
     "name": "stdout",
     "output_type": "stream",
     "text": [
      "245\n",
      "['Arab World' 'Caribbean small states' 'Central Europe and the Baltics'\n",
      " 'East Asia & Pacific (all income levels)'\n",
      " 'East Asia & Pacific (developing only)' 'Euro area'\n",
      " 'Europe & Central Asia (all income levels)'\n",
      " 'Europe & Central Asia (developing only)' 'European Union'\n",
      " 'Fragile and conflict affected situations'\n",
      " 'Heavily indebted poor countries (HIPC)' 'High income'\n",
      " 'High income: nonOECD' 'High income: OECD'\n",
      " 'Latin America & Caribbean (all income levels)'\n",
      " 'Latin America & Caribbean (developing only)'\n",
      " 'Least developed countries: UN classification' 'Low & middle income'\n",
      " 'Low income' 'Lower middle income'\n",
      " 'Middle East & North Africa (all income levels)'\n",
      " 'Middle East & North Africa (developing only)' 'Middle income'\n",
      " 'North America' 'OECD members' 'Other small states'\n",
      " 'Pacific island small states' 'Small states' 'South Asia'\n",
      " 'Sub-Saharan Africa (all income levels)'\n",
      " 'Sub-Saharan Africa (developing only)' 'Upper middle income' 'World'\n",
      " 'Afghanistan' 'Albania' 'Algeria' 'American Samoa' 'Andorra' 'Angola'\n",
      " 'Antigua and Barbuda' 'Argentina' 'Armenia' 'Aruba' 'Australia' 'Austria'\n",
      " 'Azerbaijan' 'Bahamas, The' 'Bahrain' 'Bangladesh' 'Barbados' 'Belarus'\n",
      " 'Belgium' 'Belize' 'Benin' 'Bermuda' 'Bhutan' 'Bolivia'\n",
      " 'Bosnia and Herzegovina' 'Botswana' 'Brazil' 'Brunei Darussalam'\n",
      " 'Bulgaria' 'Burkina Faso' 'Burundi' 'Cabo Verde' 'Cambodia' 'Cameroon'\n",
      " 'Canada' 'Cayman Islands' 'Central African Republic' 'Chad'\n",
      " 'Channel Islands' 'Chile' 'China' 'Colombia' 'Comoros' 'Congo, Dem. Rep.'\n",
      " 'Congo, Rep.' 'Costa Rica' \"Cote d'Ivoire\" 'Croatia' 'Cuba' 'Curacao'\n",
      " 'Cyprus' 'Czech Republic' 'Denmark' 'Djibouti' 'Dominica'\n",
      " 'Dominican Republic' 'Ecuador' 'Egypt, Arab Rep.' 'El Salvador'\n",
      " 'Equatorial Guinea' 'Eritrea' 'Estonia' 'Ethiopia' 'Faeroe Islands'\n",
      " 'Fiji' 'Finland' 'France' 'French Polynesia' 'Gabon' 'Gambia, The'\n",
      " 'Georgia' 'Germany' 'Ghana' 'Greece' 'Greenland' 'Grenada' 'Guam'\n",
      " 'Guatemala' 'Guinea' 'Guinea-Bissau' 'Guyana' 'Haiti' 'Honduras'\n",
      " 'Hong Kong SAR, China' 'Hungary' 'Iceland' 'India' 'Indonesia'\n",
      " 'Iran, Islamic Rep.' 'Iraq' 'Ireland' 'Isle of Man' 'Israel' 'Italy'\n",
      " 'Jamaica' 'Japan' 'Jordan' 'Kazakhstan' 'Kenya' 'Kiribati'\n",
      " 'Korea, Dem. Rep.' 'Korea, Rep.' 'Kuwait' 'Kyrgyz Republic' 'Lao PDR'\n",
      " 'Latvia' 'Lebanon' 'Lesotho' 'Liberia' 'Libya' 'Liechtenstein'\n",
      " 'Lithuania' 'Luxembourg' 'Macao SAR, China' 'Macedonia, FYR' 'Madagascar'\n",
      " 'Malawi' 'Malaysia' 'Maldives' 'Mali' 'Malta' 'Marshall Islands'\n",
      " 'Mauritania' 'Mauritius' 'Mexico' 'Micronesia, Fed. Sts.' 'Moldova'\n",
      " 'Monaco' 'Mongolia' 'Montenegro' 'Morocco' 'Mozambique' 'Myanmar'\n",
      " 'Namibia' 'Nepal' 'Netherlands' 'New Caledonia' 'New Zealand' 'Nicaragua'\n",
      " 'Niger' 'Nigeria' 'Northern Mariana Islands' 'Norway' 'Oman' 'Pakistan'\n",
      " 'Palau' 'Panama' 'Papua New Guinea' 'Paraguay' 'Peru' 'Philippines'\n",
      " 'Poland' 'Portugal' 'Puerto Rico' 'Qatar' 'Romania' 'Russian Federation'\n",
      " 'Rwanda' 'Samoa' 'San Marino' 'Sao Tome and Principe' 'Saudi Arabia'\n",
      " 'Senegal' 'Seychelles' 'Sierra Leone' 'Singapore' 'Slovak Republic'\n",
      " 'Slovenia' 'Solomon Islands' 'Somalia' 'South Africa' 'South Sudan'\n",
      " 'Spain' 'Sri Lanka' 'St. Kitts and Nevis' 'St. Lucia'\n",
      " 'St. Vincent and the Grenadines' 'Sudan' 'Suriname' 'Swaziland' 'Sweden'\n",
      " 'Switzerland' 'Syrian Arab Republic' 'Tajikistan' 'Tanzania' 'Thailand'\n",
      " 'Timor-Leste' 'Togo' 'Tonga' 'Trinidad and Tobago' 'Tunisia' 'Turkey'\n",
      " 'Turkmenistan' 'Turks and Caicos Islands' 'Tuvalu' 'Uganda' 'Ukraine'\n",
      " 'United Arab Emirates' 'United Kingdom' 'United States' 'Uruguay'\n",
      " 'Uzbekistan' 'Vanuatu' 'Venezuela, RB' 'Vietnam' 'Virgin Islands (U.S.)'\n",
      " 'Yemen, Rep.' 'Zambia' 'Zimbabwe' 'Serbia' 'West Bank and Gaza'\n",
      " 'Sint Maarten (Dutch part)']\n"
     ]
    }
   ],
   "source": [
    "print(df['CountryName'].nunique())\n",
    "print(df['CountryName'].unique())"
   ]
  },
  {
   "cell_type": "code",
   "execution_count": 6,
   "metadata": {},
   "outputs": [
    {
     "name": "stdout",
     "output_type": "stream",
     "text": [
      "       CountryName CountryCode  Year  Total Population  \\\n",
      "134    Korea, Rep.         KOR  1960        25012374.0   \n",
      "376    Korea, Rep.         KOR  1961        25765673.0   \n",
      "618    Korea, Rep.         KOR  1962        26513030.0   \n",
      "860    Korea, Rep.         KOR  1963        27261747.0   \n",
      "1102   Korea, Rep.         KOR  1964        27984155.0   \n",
      "1344   Korea, Rep.         KOR  1965        28704674.0   \n",
      "1586   Korea, Rep.         KOR  1966        29435571.0   \n",
      "1828   Korea, Rep.         KOR  1967        30130983.0   \n",
      "2070   Korea, Rep.         KOR  1968        30838302.0   \n",
      "2312   Korea, Rep.         KOR  1969        31544266.0   \n",
      "2554   Korea, Rep.         KOR  1970        32240827.0   \n",
      "2796   Korea, Rep.         KOR  1971        32882704.0   \n",
      "3038   Korea, Rep.         KOR  1972        33505406.0   \n",
      "3280   Korea, Rep.         KOR  1973        34103149.0   \n",
      "3522   Korea, Rep.         KOR  1974        34692266.0   \n",
      "3764   Korea, Rep.         KOR  1975        35280725.0   \n",
      "4006   Korea, Rep.         KOR  1976        35848523.0   \n",
      "4248   Korea, Rep.         KOR  1977        36411795.0   \n",
      "4490   Korea, Rep.         KOR  1978        36969185.0   \n",
      "4732   Korea, Rep.         KOR  1979        37534236.0   \n",
      "4974   Korea, Rep.         KOR  1980        38123775.0   \n",
      "5216   Korea, Rep.         KOR  1981        38723248.0   \n",
      "5458   Korea, Rep.         KOR  1982        39326352.0   \n",
      "5700   Korea, Rep.         KOR  1983        39910403.0   \n",
      "5942   Korea, Rep.         KOR  1984        40405956.0   \n",
      "6184   Korea, Rep.         KOR  1985        40805744.0   \n",
      "6426   Korea, Rep.         KOR  1986        41213674.0   \n",
      "6668   Korea, Rep.         KOR  1987        41621690.0   \n",
      "6910   Korea, Rep.         KOR  1988        42031247.0   \n",
      "7152   Korea, Rep.         KOR  1989        42449038.0   \n",
      "7394   Korea, Rep.         KOR  1990        42869283.0   \n",
      "7638   Korea, Rep.         KOR  1991        43295704.0   \n",
      "7882   Korea, Rep.         KOR  1992        43747962.0   \n",
      "8125   Korea, Rep.         KOR  1993        44194628.0   \n",
      "8368   Korea, Rep.         KOR  1994        44641540.0   \n",
      "8611   Korea, Rep.         KOR  1995        45092991.0   \n",
      "8855   Korea, Rep.         KOR  1996        45524681.0   \n",
      "9099   Korea, Rep.         KOR  1997        45953580.0   \n",
      "9343   Korea, Rep.         KOR  1998        46286503.0   \n",
      "9588   Korea, Rep.         KOR  1999        46616677.0   \n",
      "9833   Korea, Rep.         KOR  2000        47008111.0   \n",
      "10078  Korea, Rep.         KOR  2001        47357362.0   \n",
      "10323  Korea, Rep.         KOR  2002        47622179.0   \n",
      "10568  Korea, Rep.         KOR  2003        47859311.0   \n",
      "10813  Korea, Rep.         KOR  2004        48039415.0   \n",
      "11058  Korea, Rep.         KOR  2005        48138077.0   \n",
      "11303  Korea, Rep.         KOR  2006        48371946.0   \n",
      "11548  Korea, Rep.         KOR  2007        48597652.0   \n",
      "11793  Korea, Rep.         KOR  2008        48948698.0   \n",
      "12038  Korea, Rep.         KOR  2009        49182038.0   \n",
      "12283  Korea, Rep.         KOR  2010        49410366.0   \n",
      "12528  Korea, Rep.         KOR  2011        49779440.0   \n",
      "12773  Korea, Rep.         KOR  2012        50004441.0   \n",
      "13018  Korea, Rep.         KOR  2013        50219669.0   \n",
      "13263  Korea, Rep.         KOR  2014        50423955.0   \n",
      "\n",
      "       Urban population (% of total)  \n",
      "134                           27.710  \n",
      "376                           28.531  \n",
      "618                           29.461  \n",
      "860                           30.407  \n",
      "1102                          31.372  \n",
      "1344                          32.351  \n",
      "1586                          33.347  \n",
      "1828                          34.971  \n",
      "2070                          36.846  \n",
      "2312                          38.756  \n",
      "2554                          40.704  \n",
      "2796                          42.261  \n",
      "3038                          43.692  \n",
      "3280                          45.131  \n",
      "3522                          46.579  \n",
      "3764                          48.033  \n",
      "4006                          49.719  \n",
      "4248                          51.476  \n",
      "4490                          53.233  \n",
      "4732                          54.981  \n",
      "4974                          56.720  \n",
      "5216                          58.407  \n",
      "5458                          60.061  \n",
      "5700                          61.693  \n",
      "5942                          63.301  \n",
      "6184                          64.876  \n",
      "6426                          66.679  \n",
      "6668                          68.563  \n",
      "6910                          70.389  \n",
      "7152                          72.148  \n",
      "7394                          73.844  \n",
      "7638                          74.972  \n",
      "7882                          75.820  \n",
      "8125                          76.645  \n",
      "8368                          77.452  \n",
      "8611                          78.239  \n",
      "8855                          78.662  \n",
      "9099                          78.905  \n",
      "9343                          79.145  \n",
      "9588                          79.384  \n",
      "9833                          79.621  \n",
      "10078                         79.940  \n",
      "10323                         80.299  \n",
      "10568                         80.652  \n",
      "10813                         81.002  \n",
      "11058                         81.345  \n",
      "11303                         81.528  \n",
      "11548                         81.631  \n",
      "11793                         81.733  \n",
      "12038                         81.835  \n",
      "12283                         81.936  \n",
      "12528                         82.037  \n",
      "12773                         82.141  \n",
      "13018                         82.249  \n",
      "13263                         82.360  \n"
     ]
    }
   ],
   "source": [
    "Korea = df[df['CountryName']=='Korea, Rep.']\n",
    "print(Korea)"
   ]
  },
  {
   "cell_type": "code",
   "execution_count": 9,
   "metadata": {},
   "outputs": [
    {
     "name": "stdout",
     "output_type": "stream",
     "text": [
      "       Year  Total Population\n",
      "134    1960        25012374.0\n",
      "376    1961        25765673.0\n",
      "618    1962        26513030.0\n",
      "860    1963        27261747.0\n",
      "1102   1964        27984155.0\n",
      "1344   1965        28704674.0\n",
      "1586   1966        29435571.0\n",
      "1828   1967        30130983.0\n",
      "2070   1968        30838302.0\n",
      "2312   1969        31544266.0\n",
      "2554   1970        32240827.0\n",
      "2796   1971        32882704.0\n",
      "3038   1972        33505406.0\n",
      "3280   1973        34103149.0\n",
      "3522   1974        34692266.0\n",
      "3764   1975        35280725.0\n",
      "4006   1976        35848523.0\n",
      "4248   1977        36411795.0\n",
      "4490   1978        36969185.0\n",
      "4732   1979        37534236.0\n",
      "4974   1980        38123775.0\n",
      "5216   1981        38723248.0\n",
      "5458   1982        39326352.0\n",
      "5700   1983        39910403.0\n",
      "5942   1984        40405956.0\n",
      "6184   1985        40805744.0\n",
      "6426   1986        41213674.0\n",
      "6668   1987        41621690.0\n",
      "6910   1988        42031247.0\n",
      "7152   1989        42449038.0\n",
      "7394   1990        42869283.0\n",
      "7638   1991        43295704.0\n",
      "7882   1992        43747962.0\n",
      "8125   1993        44194628.0\n",
      "8368   1994        44641540.0\n",
      "8611   1995        45092991.0\n",
      "8855   1996        45524681.0\n",
      "9099   1997        45953580.0\n",
      "9343   1998        46286503.0\n",
      "9588   1999        46616677.0\n",
      "9833   2000        47008111.0\n",
      "10078  2001        47357362.0\n",
      "10323  2002        47622179.0\n",
      "10568  2003        47859311.0\n",
      "10813  2004        48039415.0\n",
      "11058  2005        48138077.0\n",
      "11303  2006        48371946.0\n",
      "11548  2007        48597652.0\n",
      "11793  2008        48948698.0\n",
      "12038  2009        49182038.0\n",
      "12283  2010        49410366.0\n",
      "12528  2011        49779440.0\n",
      "12773  2012        50004441.0\n",
      "13018  2013        50219669.0\n",
      "13263  2014        50423955.0\n"
     ]
    },
    {
     "data": {
      "text/plain": [
       "[<matplotlib.lines.Line2D at 0x11e9457d0>]"
      ]
     },
     "execution_count": 9,
     "metadata": {},
     "output_type": "execute_result"
    },
    {
     "data": {
      "image/png": "[encoded data removed]",
      "text/plain": [
       "<Figure size 432x288 with 1 Axes>"
      ]
     },
     "metadata": {
      "needs_background": "light"
     },
     "output_type": "display_data"
    }
   ],
   "source": [
    "import matplotlib.pyplot as plt\n",
    "kor_pop = Korea[['Year', 'Total Population']]\n",
    "print(kor_pop)\n",
    "plt.plot(kor_pop['Year'], kor_pop['Total Population'])\n",
    "#plt.show()"
   ]
  },
  {
   "cell_type": "code",
   "execution_count": 12,
   "metadata": {},
   "outputs": [
    {
     "name": "stdout",
     "output_type": "stream",
     "text": [
      "{'Arab World': 5, 'Caribbean small states': 5, 'Central Europe and the Baltics': 5, 'East Asia & Pacific (all income levels)': 5, 'East Asia & Pacific (developing only)': 5, 'Euro area': 5, 'Europe & Central Asia (all income levels)': 5, 'Europe & Central Asia (developing only)': 5, 'European Union': 5, 'Fragile and conflict affected situations': 5, 'Heavily indebted poor countries (HIPC)': 5, 'High income': 5, 'High income: nonOECD': 5, 'High income: OECD': 5, 'Latin America & Caribbean (all income levels)': 5, 'Latin America & Caribbean (developing only)': 5, 'Least developed countries: UN classification': 5, 'Low & middle income': 5, 'Low income': 5, 'Lower middle income': 5, 'Middle East & North Africa (all income levels)': 5, 'Middle East & North Africa (developing only)': 5, 'Middle income': 5, 'North America': 5, 'OECD members': 5, 'Other small states': 5, 'Pacific island small states': 5, 'Small states': 5, 'South Asia': 5, 'Sub-Saharan Africa (all income levels)': 5, 'Sub-Saharan Africa (developing only)': 5, 'Upper middle income': 5, 'World': 4, 'Afghanistan': 4, 'Albania': 4, 'Algeria': 4, 'American Samoa': 4, 'Andorra': 4, 'Angola': 4, 'Antigua and Barbuda': 4, 'Argentina': 4, 'Armenia': 4, 'Aruba': 4, 'Australia': 4, 'Austria': 4, 'Azerbaijan': 4, '\"Bahamas': 4, 'Bahrain': 4, 'Bangladesh': 4, 'Barbados': 4, 'Belarus': 4, 'Belgium': 4, 'Belize': 4, 'Benin': 4, 'Bermuda': 4, 'Bhutan': 4, 'Bolivia': 4, 'Bosnia and Herzegovina': 4, 'Botswana': 4, 'Brazil': 4, 'Brunei Darussalam': 4, 'Bulgaria': 4, 'Burkina Faso': 4, 'Burundi': 4, 'Cabo Verde': 4, 'Cambodia': 4, 'Cameroon': 4, 'Canada': 4, 'Cayman Islands': 4, 'Central African Republic': 4, 'Chad': 4, 'Channel Islands': 4, 'Chile': 4, 'China': 4, 'Colombia': 4, 'Comoros': 4, '\"Congo': 8, 'Costa Rica': 4, \"Cote d'Ivoire\": 4, 'Croatia': 4, 'Cuba': 4, 'Curacao': 4, 'Cyprus': 4, 'Czech Republic': 4, 'Denmark': 4, 'Djibouti': 4, 'Dominica': 4, 'Dominican Republic': 4, 'Ecuador': 4, '\"Egypt': 4, 'El Salvador': 4, 'Equatorial Guinea': 4, 'Eritrea': 4, 'Estonia': 4, 'Ethiopia': 4, 'Faeroe Islands': 4, 'Fiji': 4, 'Finland': 4, 'France': 4, 'French Polynesia': 4, 'Gabon': 4, '\"Gambia': 4, 'Georgia': 4, 'Germany': 4, 'Ghana': 4, 'Greece': 4, 'Greenland': 4, 'Grenada': 4, 'Guam': 4, 'Guatemala': 4, 'Guinea': 4, 'Guinea-Bissau': 4, 'Guyana': 4, 'Haiti': 4, 'Honduras': 4, '\"Hong Kong SAR': 4, 'Hungary': 4, 'Iceland': 4, 'India': 4, 'Indonesia': 4, '\"Iran': 4, 'Iraq': 4, 'Ireland': 4, 'Isle of Man': 4, 'Israel': 4, 'Italy': 4, 'Jamaica': 4, 'Japan': 4, 'Jordan': 4, 'Kazakhstan': 4, 'Kenya': 4, 'Kiribati': 4, '\"Korea': 8, 'Kuwait': 4, 'Kyrgyz Republic': 4, 'Lao PDR': 4, 'Latvia': 4, 'Lebanon': 4, 'Lesotho': 4, 'Liberia': 4, 'Libya': 4, 'Liechtenstein': 4, 'Lithuania': 4, 'Luxembourg': 4, '\"Macao SAR': 4, '\"Macedonia': 4, 'Madagascar': 4, 'Malawi': 4, 'Malaysia': 4, 'Maldives': 4, 'Mali': 4, 'Malta': 4, 'Marshall Islands': 4, 'Mauritania': 4, 'Mauritius': 4, 'Mexico': 4, '\"Micronesia': 4, 'Moldova': 4, 'Monaco': 4, 'Mongolia': 4, 'Montenegro': 4, 'Morocco': 4, 'Mozambique': 4, 'Myanmar': 4, 'Namibia': 4, 'Nepal': 4, 'Netherlands': 4, 'New Caledonia': 4, 'New Zealand': 4, 'Nicaragua': 4, 'Niger': 4, 'Nigeria': 4, 'Northern Mariana Islands': 4, 'Norway': 4, 'Oman': 4, 'Pakistan': 4, 'Palau': 4, 'Panama': 4, 'Papua New Guinea': 4, 'Paraguay': 4, 'Peru': 4, 'Philippines': 4, 'Poland': 4, 'Portugal': 4, 'Puerto Rico': 4, 'Qatar': 4, 'Romania': 4, 'Russian Federation': 4, 'Rwanda': 4, 'Samoa': 4, 'San Marino': 4, 'Sao Tome and Principe': 4, 'Saudi Arabia': 4, 'Senegal': 4, 'Seychelles': 4, 'Sierra Leone': 4, 'Singapore': 4, 'Slovak Republic': 4, 'Slovenia': 4, 'Solomon Islands': 4, 'Somalia': 4, 'South Africa': 4, 'South Sudan': 4, 'Spain': 4, 'Sri Lanka': 4, 'St. Kitts and Nevis': 4, 'St. Lucia': 4, 'St. Vincent and the Grenadines': 4, 'Sudan': 4, 'Suriname': 4, 'Swaziland': 4, 'Sweden': 4, 'Switzerland': 4, 'Syrian Arab Republic': 4, 'Tajikistan': 4, 'Tanzania': 4, 'Thailand': 4, 'Timor-Leste': 4, 'Togo': 4, 'Tonga': 4, 'Trinidad and Tobago': 4, 'Tunisia': 4, 'Turkey': 4, 'Turkmenistan': 4, 'Turks and Caicos Islands': 4, 'Tuvalu': 4, 'Uganda': 4, 'Ukraine': 4, 'United Arab Emirates': 4, 'United Kingdom': 4, 'United States': 4, 'Uruguay': 4, 'Uzbekistan': 4, 'Vanuatu': 4, '\"Venezuela': 4, 'Vietnam': 4, 'Virgin Islands (U.S.)': 4, '\"Yemen': 4, 'Zambia': 4, 'Zimbabwe': 4}\n"
     ]
    }
   ],
   "source": [
    "with open('world_ind_pop_data.csv') as file:\n",
    "    file.readline()\n",
    "    counts_dict = {}\n",
    "    for j in range(1000):\n",
    "        line = file.readline().split(',')\n",
    "        first_col = line[0]\n",
    "        if first_col in counts_dict.keys():\n",
    "            counts_dict[first_col]+=1\n",
    "        else:\n",
    "            counts_dict[first_col] = 1\n",
    "print(counts_dict)"
   ]
  },
  {
   "cell_type": "code",
   "execution_count": 26,
   "metadata": {},
   "outputs": [
    {
     "name": "stdout",
     "output_type": "stream",
     "text": [
      "['CountryName', 'CountryCode', 'Year', 'Total Population', 'Urban population (% of total)\\n']\n",
      "['Arab World', 'ARB', '1960', '92495902.0', '31.285384211605397\\n']\n",
      "['Caribbean small states', 'CSS', '1960', '4190810.0', '31.5974898513652\\n']\n"
     ]
    }
   ],
   "source": [
    "#a file object is already a generator, you don't have to explicitly create a generator object with the function below.\n",
    "def read_large_file(file_object):\n",
    "    while True:\n",
    "        data = file_object.readline()\n",
    "        #break if this is the end of the file\n",
    "        if not data:\n",
    "            break\n",
    "        yield data\n",
    "        \n",
    "with open('world_ind_pop_data.csv') as file:\n",
    "    gen_file = read_large_file(file)\n",
    "    \n",
    "    print(next(gen_file).split(','))\n",
    "\n",
    "    print(next(gen_file).split(','))\n",
    "\n",
    "    print(next(gen_file).split(','))\n"
   ]
  },
  {
   "cell_type": "code",
   "execution_count": 27,
   "metadata": {},
   "outputs": [
    {
     "name": "stdout",
     "output_type": "stream",
     "text": [
      "{'CountryName': 1, 'Arab World': 55, 'Caribbean small states': 55, 'Central Europe and the Baltics': 55, 'East Asia & Pacific (all income levels)': 55, 'East Asia & Pacific (developing only)': 55, 'Euro area': 55, 'Europe & Central Asia (all income levels)': 55, 'Europe & Central Asia (developing only)': 55, 'European Union': 55, 'Fragile and conflict affected situations': 55, 'Heavily indebted poor countries (HIPC)': 55, 'High income': 55, 'High income: nonOECD': 55, 'High income: OECD': 55, 'Latin America & Caribbean (all income levels)': 55, 'Latin America & Caribbean (developing only)': 55, 'Least developed countries: UN classification': 55, 'Low & middle income': 55, 'Low income': 55, 'Lower middle income': 55, 'Middle East & North Africa (all income levels)': 55, 'Middle East & North Africa (developing only)': 55, 'Middle income': 55, 'North America': 55, 'OECD members': 55, 'Other small states': 55, 'Pacific island small states': 55, 'Small states': 55, 'South Asia': 55, 'Sub-Saharan Africa (all income levels)': 55, 'Sub-Saharan Africa (developing only)': 55, 'Upper middle income': 55, 'World': 55, 'Afghanistan': 55, 'Albania': 55, 'Algeria': 55, 'American Samoa': 55, 'Andorra': 55, 'Angola': 55, 'Antigua and Barbuda': 55, 'Argentina': 55, 'Armenia': 55, 'Aruba': 55, 'Australia': 55, 'Austria': 55, 'Azerbaijan': 55, '\"Bahamas': 55, 'Bahrain': 55, 'Bangladesh': 55, 'Barbados': 55, 'Belarus': 55, 'Belgium': 55, 'Belize': 55, 'Benin': 55, 'Bermuda': 55, 'Bhutan': 55, 'Bolivia': 55, 'Bosnia and Herzegovina': 55, 'Botswana': 55, 'Brazil': 55, 'Brunei Darussalam': 55, 'Bulgaria': 55, 'Burkina Faso': 55, 'Burundi': 55, 'Cabo Verde': 55, 'Cambodia': 55, 'Cameroon': 55, 'Canada': 55, 'Cayman Islands': 55, 'Central African Republic': 55, 'Chad': 55, 'Channel Islands': 55, 'Chile': 55, 'China': 55, 'Colombia': 55, 'Comoros': 55, '\"Congo': 110, 'Costa Rica': 55, \"Cote d'Ivoire\": 55, 'Croatia': 55, 'Cuba': 55, 'Curacao': 55, 'Cyprus': 55, 'Czech Republic': 55, 'Denmark': 55, 'Djibouti': 55, 'Dominica': 55, 'Dominican Republic': 55, 'Ecuador': 55, '\"Egypt': 55, 'El Salvador': 55, 'Equatorial Guinea': 55, 'Eritrea': 55, 'Estonia': 55, 'Ethiopia': 55, 'Faeroe Islands': 55, 'Fiji': 55, 'Finland': 55, 'France': 55, 'French Polynesia': 55, 'Gabon': 55, '\"Gambia': 55, 'Georgia': 55, 'Germany': 55, 'Ghana': 55, 'Greece': 55, 'Greenland': 55, 'Grenada': 55, 'Guam': 55, 'Guatemala': 55, 'Guinea': 55, 'Guinea-Bissau': 55, 'Guyana': 55, 'Haiti': 55, 'Honduras': 55, '\"Hong Kong SAR': 55, 'Hungary': 55, 'Iceland': 55, 'India': 55, 'Indonesia': 55, '\"Iran': 55, 'Iraq': 55, 'Ireland': 55, 'Isle of Man': 55, 'Israel': 55, 'Italy': 55, 'Jamaica': 55, 'Japan': 55, 'Jordan': 55, 'Kazakhstan': 55, 'Kenya': 55, 'Kiribati': 55, '\"Korea': 110, 'Kuwait': 52, 'Kyrgyz Republic': 55, 'Lao PDR': 55, 'Latvia': 55, 'Lebanon': 55, 'Lesotho': 55, 'Liberia': 55, 'Libya': 55, 'Liechtenstein': 55, 'Lithuania': 55, 'Luxembourg': 55, '\"Macao SAR': 55, '\"Macedonia': 55, 'Madagascar': 55, 'Malawi': 55, 'Malaysia': 55, 'Maldives': 55, 'Mali': 55, 'Malta': 55, 'Marshall Islands': 55, 'Mauritania': 55, 'Mauritius': 55, 'Mexico': 55, '\"Micronesia': 55, 'Moldova': 55, 'Monaco': 55, 'Mongolia': 55, 'Montenegro': 55, 'Morocco': 55, 'Mozambique': 55, 'Myanmar': 55, 'Namibia': 55, 'Nepal': 55, 'Netherlands': 55, 'New Caledonia': 55, 'New Zealand': 55, 'Nicaragua': 55, 'Niger': 55, 'Nigeria': 55, 'Northern Mariana Islands': 55, 'Norway': 55, 'Oman': 55, 'Pakistan': 55, 'Palau': 55, 'Panama': 55, 'Papua New Guinea': 55, 'Paraguay': 55, 'Peru': 55, 'Philippines': 55, 'Poland': 55, 'Portugal': 55, 'Puerto Rico': 55, 'Qatar': 55, 'Romania': 55, 'Russian Federation': 55, 'Rwanda': 55, 'Samoa': 55, 'San Marino': 55, 'Sao Tome and Principe': 55, 'Saudi Arabia': 55, 'Senegal': 55, 'Seychelles': 55, 'Sierra Leone': 55, 'Singapore': 55, 'Slovak Republic': 55, 'Slovenia': 55, 'Solomon Islands': 55, 'Somalia': 55, 'South Africa': 55, 'South Sudan': 55, 'Spain': 55, 'Sri Lanka': 55, 'St. Kitts and Nevis': 55, 'St. Lucia': 55, 'St. Vincent and the Grenadines': 55, 'Sudan': 55, 'Suriname': 55, 'Swaziland': 55, 'Sweden': 55, 'Switzerland': 55, 'Syrian Arab Republic': 55, 'Tajikistan': 55, 'Tanzania': 55, 'Thailand': 55, 'Timor-Leste': 55, 'Togo': 55, 'Tonga': 55, 'Trinidad and Tobago': 55, 'Tunisia': 55, 'Turkey': 55, 'Turkmenistan': 55, 'Turks and Caicos Islands': 55, 'Tuvalu': 55, 'Uganda': 55, 'Ukraine': 55, 'United Arab Emirates': 55, 'United Kingdom': 55, 'United States': 55, 'Uruguay': 55, 'Uzbekistan': 55, 'Vanuatu': 55, '\"Venezuela': 55, 'Vietnam': 55, 'Virgin Islands (U.S.)': 55, '\"Yemen': 55, 'Zambia': 55, 'Zimbabwe': 55, 'Serbia': 25, 'West Bank and Gaza': 25, 'Sint Maarten (Dutch part)': 17}\n"
     ]
    }
   ],
   "source": [
    "counts_dict = {}\n",
    "with open('world_ind_pop_data.csv') as file:\n",
    "    for line in read_large_file(file):\n",
    "        row = line.split(',')\n",
    "        first_col = row[0]\n",
    "        if first_col in counts_dict.keys():\n",
    "            counts_dict[first_col]+=1\n",
    "        else:\n",
    "            counts_dict[first_col] = 1\n",
    "            \n",
    "print(counts_dict)"
   ]
  },
  {
   "cell_type": "code",
   "execution_count": 31,
   "metadata": {},
   "outputs": [
    {
     "name": "stderr",
     "output_type": "stream",
     "text": [
      "/Users/boyoonchoi/opt/anaconda3/lib/python3.7/site-packages/ipykernel_launcher.py:8: SettingWithCopyWarning: \n",
      "A value is trying to be set on a copy of a slice from a DataFrame.\n",
      "Try using .loc[row_indexer,col_indexer] = value instead\n",
      "\n",
      "See the caveats in the documentation: http://pandas.pydata.org/pandas-docs/stable/user_guide/indexing.html#returning-a-view-versus-a-copy\n",
      "  \n"
     ]
    },
    {
     "data": {
      "image/png": "[encoded data removed]",
      "text/plain": [
       "<Figure size 432x288 with 1 Axes>"
      ]
     },
     "metadata": {
      "needs_background": "light"
     },
     "output_type": "display_data"
    }
   ],
   "source": [
    "urb_pop_reader = pd.read_csv('world_ind_pop_data.csv', chunksize=1000)\n",
    "data = pd.DataFrame()\n",
    "\n",
    "for df_urb_pop in urb_pop_reader:\n",
    "    df_pop_ceb = df_urb_pop[df_urb_pop['CountryCode']=='CEB']\n",
    "    pops = zip(df_pop_ceb['Total Population'], df_pop_ceb['Urban population (% of total)'])\n",
    "    pops_list = list(pops)\n",
    "    df_pop_ceb['Total Urban Population'] = [int(tup[0]*tup[1]*0.01) for tup in pops_list]\n",
    "    data = data.append(df_pop_ceb)\n",
    "    \n",
    "data.plot(kind='scatter', x='Year', y='Total Urban Population')\n",
    "plt.show()"
   ]
  },
  {
   "cell_type": "code",
   "execution_count": 61,
   "metadata": {},
   "outputs": [
    {
     "name": "stderr",
     "output_type": "stream",
     "text": [
      "/Users/boyoonchoi/opt/anaconda3/lib/python3.7/site-packages/ipykernel_launcher.py:8: SettingWithCopyWarning: \n",
      "A value is trying to be set on a copy of a slice from a DataFrame.\n",
      "Try using .loc[row_indexer,col_indexer] = value instead\n",
      "\n",
      "See the caveats in the documentation: http://pandas.pydata.org/pandas-docs/stable/user_guide/indexing.html#returning-a-view-versus-a-copy\n",
      "  \n"
     ]
    },
    {
     "data": {
      "image/png": "[encoded data removed]",
      "text/plain": [
       "<Figure size 432x288 with 1 Axes>"
      ]
     },
     "metadata": {
      "needs_background": "light"
     },
     "output_type": "display_data"
    },
    {
     "data": {
      "image/png": "[encoded data removed]",
      "text/plain": [
       "<Figure size 432x288 with 1 Axes>"
      ]
     },
     "metadata": {
      "needs_background": "light"
     },
     "output_type": "display_data"
    },
    {
     "data": {
      "image/png": "[encoded data removed]",
      "text/plain": [
       "<Figure size 432x288 with 1 Axes>"
      ]
     },
     "metadata": {
      "needs_background": "light"
     },
     "output_type": "display_data"
    }
   ],
   "source": [
    "def plot_pop(filename, country_code):\n",
    "    urb_pop_reader = pd.read_csv(filename, chunksize=1000)\n",
    "    data = pd.DataFrame()\n",
    "    for df_urb_pop in urb_pop_reader:\n",
    "        df_pop_ceb = df_urb_pop[df_urb_pop['CountryCode']==country_code]\n",
    "        pops = zip(df_pop_ceb['Total Population'], df_pop_ceb['Urban population (% of total)'])\n",
    "        pops_list = list(pops)\n",
    "        df_pop_ceb['Total Urban Population'] = [int(tup[0]*tup[1]*0.01) for tup in pops_list]\n",
    "        data = data.append(df_pop_ceb)\n",
    "    data.plot(kind='scatter', x='Year', y='Total Urban Population')\n",
    "    plt.show()\n",
    "    \n",
    "fn = 'world_ind_pop_data.csv'\n",
    "plot_pop(fn, 'KOR')\n",
    "plot_pop(fn, 'JPN')\n",
    "plot_pop(fn, 'CHN')"
   ]
  },
  {
   "cell_type": "code",
   "execution_count": null,
   "metadata": {},
   "outputs": [],
   "source": []
  }
 ],
 "metadata": {
  "kernelspec": {
   "display_name": "Python 3",
   "language": "python",
   "name": "python3"
  },
  "language_info": {
   "codemirror_mode": {
    "name": "ipython",
    "version": 3
   },
   "file_extension": ".py",
   "mimetype": "text/x-python",
   "name": "python",
   "nbconvert_exporter": "python",
   "pygments_lexer": "ipython3",
   "version": "3.7.4"
  }
 },
 "nbformat": 4,
 "nbformat_minor": 2
}
