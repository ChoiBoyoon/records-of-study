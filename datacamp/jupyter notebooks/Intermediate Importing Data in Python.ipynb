{
 "cells": [
  {
   "cell_type": "code",
   "execution_count": 1,
   "metadata": {},
   "outputs": [
    {
     "name": "stdout",
     "output_type": "stream",
     "text": [
      "   fixed acidity  volatile acidity  citric acid  residual sugar  chlorides  \\\n",
      "0            7.4              0.70         0.00             1.9      0.076   \n",
      "1            7.8              0.88         0.00             2.6      0.098   \n",
      "2            7.8              0.76         0.04             2.3      0.092   \n",
      "3           11.2              0.28         0.56             1.9      0.075   \n",
      "4            7.4              0.70         0.00             1.9      0.076   \n",
      "\n",
      "   free sulfur dioxide  total sulfur dioxide  density    pH  sulphates  \\\n",
      "0                 11.0                  34.0   0.9978  3.51       0.56   \n",
      "1                 25.0                  67.0   0.9968  3.20       0.68   \n",
      "2                 15.0                  54.0   0.9970  3.26       0.65   \n",
      "3                 17.0                  60.0   0.9980  3.16       0.58   \n",
      "4                 11.0                  34.0   0.9978  3.51       0.56   \n",
      "\n",
      "   alcohol  quality  \n",
      "0      9.4        5  \n",
      "1      9.8        5  \n",
      "2      9.8        5  \n",
      "3      9.8        6  \n",
      "4      9.4        5  \n"
     ]
    }
   ],
   "source": [
    "from urllib.request import urlretrieve\n",
    "import pandas as pd\n",
    "\n",
    "url = 'https://assets.datacamp.com/production/course_1606/datasets/winequality-red.csv'\n",
    "urlretrieve(url, 'winequality-red.csv')\n",
    "df = pd.read_csv('winequality-red.csv', sep=';')\n",
    "print(df.head())"
   ]
  },
  {
   "cell_type": "markdown",
   "metadata": {},
   "source": [
    "#### If you just wanted to load a file from the web into a DataFrame without saving it locally..."
   ]
  },
  {
   "cell_type": "code",
   "execution_count": 4,
   "metadata": {
    "scrolled": true
   },
   "outputs": [
    {
     "name": "stdout",
     "output_type": "stream",
     "text": [
      "   fixed acidity  volatile acidity  citric acid  residual sugar  chlorides  \\\n",
      "0            7.4              0.70         0.00             1.9      0.076   \n",
      "1            7.8              0.88         0.00             2.6      0.098   \n",
      "2            7.8              0.76         0.04             2.3      0.092   \n",
      "3           11.2              0.28         0.56             1.9      0.075   \n",
      "4            7.4              0.70         0.00             1.9      0.076   \n",
      "\n",
      "   free sulfur dioxide  total sulfur dioxide  density    pH  sulphates  \\\n",
      "0                 11.0                  34.0   0.9978  3.51       0.56   \n",
      "1                 25.0                  67.0   0.9968  3.20       0.68   \n",
      "2                 15.0                  54.0   0.9970  3.26       0.65   \n",
      "3                 17.0                  60.0   0.9980  3.16       0.58   \n",
      "4                 11.0                  34.0   0.9978  3.51       0.56   \n",
      "\n",
      "   alcohol  quality  \n",
      "0      9.4        5  \n",
      "1      9.8        5  \n",
      "2      9.8        5  \n",
      "3      9.8        6  \n",
      "4      9.4        5  \n"
     ]
    },
    {
     "data": {
      "image/png": "[encoded data removed]",
      "text/plain": [
       "<Figure size 432x288 with 1 Axes>"
      ]
     },
     "metadata": {
      "needs_background": "light"
     },
     "output_type": "display_data"
    }
   ],
   "source": [
    "import matplotlib.pyplot as plt\n",
    "df = pd.read_csv(url, sep=';')\n",
    "print(df.head())\n",
    "\n",
    "#plot the first column of df\n",
    "df.iloc[:,0].hist()\n",
    "plt.xlabel('fixed acidity (g(tartaric acid)/dm$^3$')\n",
    "plt.ylabel('count')\n",
    "plt.show()"
   ]
  },
  {
   "cell_type": "markdown",
   "metadata": {},
   "source": [
    "### Importing Excel file"
   ]
  },
  {
   "cell_type": "code",
   "execution_count": 5,
   "metadata": {},
   "outputs": [
    {
     "name": "stdout",
     "output_type": "stream",
     "text": [
      "odict_keys(['1700', '1900'])\n",
      "                 country       1700\n",
      "0            Afghanistan  34.565000\n",
      "1  Akrotiri and Dhekelia  34.616667\n",
      "2                Albania  41.312000\n",
      "3                Algeria  36.720000\n",
      "4         American Samoa -14.307000\n"
     ]
    }
   ],
   "source": [
    "url = 'https://assets.datacamp.com/course/importing_data_into_r/latitude.xls'\n",
    "xls = pd.read_excel(url, sheet_name=None) #sheet_name=None -> import all sheets\n",
    "print(xls.keys())\n",
    "print(xls['1700'].head())"
   ]
  },
  {
   "cell_type": "markdown",
   "metadata": {},
   "source": [
    "## Codebyte practice - factorial"
   ]
  },
  {
   "cell_type": "code",
   "execution_count": 23,
   "metadata": {},
   "outputs": [
    {
     "name": "stdout",
     "output_type": "stream",
     "text": [
      "120\n",
      "3628800\n",
      "1307674368000\n"
     ]
    }
   ],
   "source": [
    "#brute force - recursion\n",
    "\n",
    "def factorial(num):\n",
    "    if (num==1 or num==0):\n",
    "        return 1\n",
    "    return num*factorial(num-1)\n",
    "\n",
    "def test():\n",
    "    print(factorial(5))\n",
    "    print(factorial(10))\n",
    "    print(factorial(15))\n",
    "    \n",
    "test()"
   ]
  },
  {
   "cell_type": "code",
   "execution_count": 33,
   "metadata": {},
   "outputs": [
    {
     "name": "stdout",
     "output_type": "stream",
     "text": [
      "120\n",
      "3628800\n",
      "1307674368000\n"
     ]
    }
   ],
   "source": [
    "#use memorization\n",
    "from typing import Dict\n",
    "\n",
    "memo:Dict[int, int] = {0:1, 1:1}\n",
    "def factorial(num:int)->int:\n",
    "    if num not in memo:\n",
    "        memo[num] = num*factorial(num-1)\n",
    "    return memo[num]\n",
    "    \n",
    "test()"
   ]
  },
  {
   "cell_type": "code",
   "execution_count": 34,
   "metadata": {},
   "outputs": [
    {
     "name": "stdout",
     "output_type": "stream",
     "text": [
      "120\n",
      "3628800\n",
      "1307674368000\n"
     ]
    }
   ],
   "source": [
    "#automatic memorization\n",
    "from functools import lru_cache\n",
    "\n",
    "@lru_cache(maxsize=None)\n",
    "def factorial(num:int) -> int:\n",
    "    if num==1 or num==0:\n",
    "        return 1\n",
    "    return num*factorial(num-1)\n",
    "\n",
    "test()"
   ]
  },
  {
   "cell_type": "code",
   "execution_count": 32,
   "metadata": {},
   "outputs": [
    {
     "name": "stdout",
     "output_type": "stream",
     "text": [
      "[1]: 1\n",
      "[2]: 2\n",
      "[3]: 6\n",
      "[4]: 24\n",
      "[5]: 120\n",
      "[6]: 720\n",
      "[7]: 5040\n",
      "[8]: 40320\n",
      "[9]: 362880\n",
      "[10]: 3628800\n"
     ]
    },
    {
     "data": {
      "text/plain": [
       "3628800"
      ]
     },
     "execution_count": 32,
     "metadata": {},
     "output_type": "execute_result"
    }
   ],
   "source": [
    "#iterative (optimal)\n",
    "def factorial(num):\n",
    "    if num==1 or num==0:\n",
    "        return 1\n",
    "    res=1\n",
    "    for i in range(1,num+1):\n",
    "        res *= i\n",
    "        print(\"[{}]: {}\".format(i, res))\n",
    "    return res\n",
    "\n",
    "factorial(10)"
   ]
  },
  {
   "cell_type": "markdown",
   "metadata": {},
   "source": [
    "## Codebyte practice - First Reverse"
   ]
  },
  {
   "cell_type": "code",
   "execution_count": 37,
   "metadata": {},
   "outputs": [
    {
     "name": "stdout",
     "output_type": "stream",
     "text": [
      "!dlroW olleH\n",
      "uoy evol I\n"
     ]
    }
   ],
   "source": [
    "#simplest solution\n",
    "def FirstReverse(strParam):\n",
    "    return strParam[::-1]\n",
    "\n",
    "def test():\n",
    "    print(FirstReverse(\"Hello World!\"))\n",
    "    print(FirstReverse(\"I love you\"))\n",
    "    \n",
    "test()"
   ]
  },
  {
   "cell_type": "code",
   "execution_count": 38,
   "metadata": {},
   "outputs": [
    {
     "name": "stdout",
     "output_type": "stream",
     "text": [
      "!dlroW olleH\n",
      "uoy evol I\n"
     ]
    }
   ],
   "source": [
    "#my solution\n",
    "def FirstReverse(strParam):\n",
    "    strlen = len(strParam)\n",
    "    res=\"\"\n",
    "    for i,v in enumerate(strParam):\n",
    "        res += strParam[strlen-i-1]\n",
    "    return res\n",
    "test()"
   ]
  },
  {
   "cell_type": "code",
   "execution_count": 40,
   "metadata": {},
   "outputs": [
    {
     "name": "stdout",
     "output_type": "stream",
     "text": [
      "o\n",
      "ol\n",
      "oll\n",
      "olle\n",
      "olleH\n",
      "olleH\n"
     ]
    }
   ],
   "source": [
    "#my solution2\n",
    "def FirstReverse(strParam):\n",
    "    strlen = len(strParam)\n",
    "    res=\"\"\n",
    "    for i in range(strlen):\n",
    "        res+=strParam[strlen-1-i]\n",
    "    return res\n",
    "print(FirstReverse(\"Hello\"))"
   ]
  },
  {
   "cell_type": "code",
   "execution_count": 48,
   "metadata": {},
   "outputs": [
    {
     "name": "stdout",
     "output_type": "stream",
     "text": [
      "gnimoc si retniW\n"
     ]
    }
   ],
   "source": [
    "string1=\"Winter is coming\"\n",
    "print(string1[::-1])"
   ]
  },
  {
   "cell_type": "markdown",
   "metadata": {},
   "source": [
    "## Roman to int"
   ]
  },
  {
   "cell_type": "code",
   "execution_count": 51,
   "metadata": {},
   "outputs": [
    {
     "name": "stdout",
     "output_type": "stream",
     "text": [
      "1612\n"
     ]
    }
   ],
   "source": [
    "def roman_to_int(input):\n",
    "    if not isinstance(input, type(\"\")):\n",
    "        raise TypeError(\"expected string, got {}\".format(type(input)))\n",
    "    res = 0 #to be returned\n",
    "    romans = {'M':1000, 'D':500, 'C':100, 'L':50, 'X':10, 'V':5, 'I':1}\n",
    "    for i in range(len(input)):\n",
    "        try:\n",
    "            value=romans[input[i]]\n",
    "            if i+1<len(input) and romans[input[i+1]]>value:\n",
    "                res -= value\n",
    "            else:\n",
    "                res += value\n",
    "        except TypeError:\n",
    "            raise ValueError(\"invalid roman \")\n",
    "    return res\n",
    "\n",
    "print(roman_to_int(\"MDCXII\"))"
   ]
  },
  {
   "cell_type": "code",
   "execution_count": 52,
   "metadata": {},
   "outputs": [
    {
     "name": "stdout",
     "output_type": "stream",
     "text": [
      "MMII\n",
      "MCMXCVIII\n"
     ]
    }
   ],
   "source": [
    "def int_to_roman(input):\n",
    "    if not isinstance(input, type(1)):\n",
    "        raise TypeError(\"expected in, got {}\".format(type(input)))\n",
    "    if not 1<input<4000:\n",
    "        raise ValueError(\"Argument must be between 1 and 3999\")\n",
    "    ints = (1000, 900, 500, 400, 100, 90, 50, 40, 10, 9, 5, 4, 1)\n",
    "    romans = ('M', 'CM', 'D', 'CD', 'C', 'XC', 'L', 'XL', 'X', 'IX', 'V','IV','I')\n",
    "    res = []\n",
    "    for i in range(len(ints)):\n",
    "        count = int(input/ints[i])\n",
    "        res.append(romans[i]*count)\n",
    "        input -= ints[i]*count\n",
    "    return ''.join(res)\n",
    "\n",
    "print(int_to_roman(2002))\n",
    "print(int_to_roman(1998))"
   ]
  },
  {
   "cell_type": "code",
   "execution_count": 54,
   "metadata": {},
   "outputs": [
    {
     "name": "stdout",
     "output_type": "stream",
     "text": [
      "True\n"
     ]
    }
   ],
   "source": [
    "string = \"abcdefghijklmnopqrstuvwxyz\"\n",
    "print('abc' in string)"
   ]
  },
  {
   "cell_type": "code",
   "execution_count": 63,
   "metadata": {},
   "outputs": [
    {
     "name": "stdout",
     "output_type": "stream",
     "text": [
      "['b', 'c', 'd', 'e', 'e', 'o', 'r', 't', 'y']\n"
     ]
    },
    {
     "data": {
      "text/plain": [
       "'bcdeeorty'"
      ]
     },
     "execution_count": 63,
     "metadata": {},
     "output_type": "execute_result"
    }
   ],
   "source": [
    "string = \"coderbyte\"\n",
    "print(sorted(string))\n",
    "def AlphabetSoup(input):\n",
    "    return ''.join(sorted(input))\n",
    "AlphabetSoup(\"coderbyte\")"
   ]
  },
  {
   "cell_type": "code",
   "execution_count": 64,
   "metadata": {},
   "outputs": [
    {
     "data": {
      "text/plain": [
       "'false'"
      ]
     },
     "execution_count": 64,
     "metadata": {},
     "output_type": "execute_result"
    }
   ],
   "source": [
    "def ABCheck(input):\n",
    "    input = input.lower()\n",
    "    for i in range(len(input)-4):\n",
    "        if input[i]=='a' and input[i+4]=='b':\n",
    "            return \"true\"\n",
    "        if input[i]=='b' and input[i+4]=='a':\n",
    "            return \"true\"\n",
    "    return \"false\"\n",
    "\n",
    "print(ABCheck(\"after it\"))\n",
    "print(ABCheck(\"after it\"))\n"
   ]
  },
  {
   "cell_type": "code",
   "execution_count": 70,
   "metadata": {},
   "outputs": [
    {
     "name": "stdout",
     "output_type": "stream",
     "text": [
      "['e', 'o', 'o']\n",
      "3\n",
      "['e', 'a', 'e', 'e']\n",
      "4\n"
     ]
    }
   ],
   "source": [
    "def VowelCount(input):\n",
    "    res = [i for i in input if i in \"aeiou\"]\n",
    "    print(res)\n",
    "    return len(res)\n",
    "    \n",
    "print(VowelCount(\"Hello world!\"))\n",
    "print(VowelCount(\"enchantee!\"))\n"
   ]
  },
  {
   "cell_type": "code",
   "execution_count": 73,
   "metadata": {},
   "outputs": [
    {
     "data": {
      "text/plain": [
       "False"
      ]
     },
     "execution_count": 73,
     "metadata": {},
     "output_type": "execute_result"
    }
   ],
   "source": [
    "def ExOh(input):\n",
    "    input = input.lower()\n",
    "    return input.count('x') == input.count('o')\n",
    "\n",
    "ExOh(\"xxxoooxxxooo\")\n",
    "ExOh(\"XOXOX\")"
   ]
  },
  {
   "cell_type": "code",
   "execution_count": 75,
   "metadata": {},
   "outputs": [
    {
     "name": "stdout",
     "output_type": "stream",
     "text": [
      "True\n"
     ]
    }
   ],
   "source": [
    "def Palindrome(input):\n",
    "    input = input.replace(' ', '')\n",
    "    return input == input[::-1]\n",
    "    \n",
    "print(Palindrome(\"racecar\"))"
   ]
  },
  {
   "cell_type": "code",
   "execution_count": 76,
   "metadata": {},
   "outputs": [
    {
     "name": "stdout",
     "output_type": "stream",
     "text": [
      "Arthmetic\n",
      "-1\n"
     ]
    }
   ],
   "source": [
    "def ArithGeo(input):\n",
    "    d = input[1] - input[0]\n",
    "    r = input[1]/input[0]\n",
    "    if all(input[n+1]-input[n]==d for n in range(len(input)-1)):\n",
    "        return 'Arthmetic'\n",
    "    elif all(input[n+1]/input[n]==r for n in range(len(input)-1)):\n",
    "        return 'Geometric'\n",
    "    else:\n",
    "        return -1\n",
    "print(ArithGeo([5,10,15]))\n",
    "print(ArithGeo([2,4,16,24]))\n"
   ]
  },
  {
   "cell_type": "code",
   "execution_count": 79,
   "metadata": {},
   "outputs": [
    {
     "name": "stdout",
     "output_type": "stream",
     "text": [
      "13\n",
      "9\n"
     ]
    }
   ],
   "source": [
    "test = [2,3,4,1,9,6,13]\n",
    "print(max(test))\n",
    "tet = test.remove(max(test))\n",
    "print(max(test))"
   ]
  },
  {
   "cell_type": "code",
   "execution_count": 85,
   "metadata": {},
   "outputs": [
    {
     "name": "stdout",
     "output_type": "stream",
     "text": [
      "True\n"
     ]
    }
   ],
   "source": [
    "import itertools\n",
    "def ArrayAddition(arr):\n",
    "    max_value = max(arr)\n",
    "    arr.remove(max_value)\n",
    "    temp = []\n",
    "    res = []\n",
    "    for i in range(len(arr)+1):\n",
    "        for se in itertools.combinations(arr, i):\n",
    "            temp.append(se)\n",
    "    for i in temp:\n",
    "        if sum(i)==max_value:\n",
    "            return True\n",
    "    return False\n",
    "print(ArrayAddition([1,2,3,4,5,6]))"
   ]
  },
  {
   "cell_type": "code",
   "execution_count": 90,
   "metadata": {},
   "outputs": [
    {
     "data": {
      "text/plain": [
       "'I paid for the Python course only $12.50!, amazing!'"
      ]
     },
     "execution_count": 90,
     "metadata": {},
     "output_type": "execute_result"
    }
   ],
   "source": [
    "from string import Template\n",
    "my_string = Template('I paid for the Python course only $$$price!')\n",
    "my_string.substitute(price=\"12.50\")"
   ]
  },
  {
   "cell_type": "code",
   "execution_count": 99,
   "metadata": {},
   "outputs": [
    {
     "name": "stdout",
     "output_type": "stream",
     "text": [
      "twenty 2  five 1\n",
      "twenty 6  five 1  one 2\n",
      "twenty 12  ten 1  five 1  one 1\n",
      "ten 1  five 1  coin2 1  coint3 1\n"
     ]
    }
   ],
   "source": [
    "def Change(input):\n",
    "    if not (isinstance(input, type(1.0)) or isinstance(input, type(1))):\n",
    "        raise TypeError('expected int, got {}'.format(type(input)))\n",
    "    list_ints = (20, 10, 5, 1, 0.5, 0.2, 0.1)\n",
    "    list_strings = (\"twenty\", \"ten\", \"five\", \"one\", \"coin1\", \"coin2\", \"coint3\")\n",
    "    res = []\n",
    "    for i in range(len(list_ints)):\n",
    "        count = int(input/list_ints[i])\n",
    "        if count:\n",
    "            res.append(list_strings[i]+\" \"+str(count))\n",
    "            input -= list_ints[i]*count\n",
    "    return '  '.join(res)\n",
    "\n",
    "print(Change(45))\n",
    "print(Change(127))\n",
    "print(Change(256))\n",
    "print(Change(15.3))\n",
    "            "
   ]
  },
  {
   "cell_type": "code",
   "execution_count": 101,
   "metadata": {},
   "outputs": [
    {
     "name": "stdout",
     "output_type": "stream",
     "text": [
      "['hello', 'world', 'how', 'are', 'you', 'doing']\n",
      "None\n"
     ]
    }
   ],
   "source": [
    "import re\n",
    "pattern = re.compile(r'\\W+')\n",
    "def LongestWord(input):\n",
    "    res = pattern.split(input)\n",
    "    print(res)\n",
    "    \n",
    "print(LongestWord(\"hello world!!! how are you doing\"))\n",
    "\n"
   ]
  },
  {
   "cell_type": "code",
   "execution_count": 104,
   "metadata": {},
   "outputs": [
    {
     "name": "stdout",
     "output_type": "stream",
     "text": [
      "<re.Match object; span=(0, 4), match='4506'>\n",
      "<re.Match object; span=(0, 4), match='4506'>\n",
      "<re.Match object; span=(17, 18), match='3'>\n",
      "None\n"
     ]
    }
   ],
   "source": [
    "string1=\"4506 people attend the show\"\n",
    "string2=\"Yesterday, I saw 3 shows\"\n",
    "\n",
    "print(re.search(r\"\\d{4}\", string1))\n",
    "print(re.match(r\"\\d{4}\", string1))\n",
    "print(re.search(r\"\\d+\", string2))\n",
    "print(re.match(r\"\\d+\", string2))"
   ]
  },
  {
   "cell_type": "code",
   "execution_count": 110,
   "metadata": {},
   "outputs": [
    {
     "name": "stdout",
     "output_type": "stream",
     "text": [
      "['fun', 'time', '']\n"
     ]
    }
   ],
   "source": [
    "import re\n",
    "string_ex = 'fun!@ time!@$'\n",
    "res_list = re.split(r'\\W+', string_ex)\n",
    "print(res_list)"
   ]
  },
  {
   "cell_type": "code",
   "execution_count": 116,
   "metadata": {},
   "outputs": [
    {
     "data": {
      "text/plain": [
       "['Cdf',\n",
       " 'Distribution',\n",
       " 'Hazard',\n",
       " 'Pmf',\n",
       " 'Surv',\n",
       " '__builtins__',\n",
       " '__cached__',\n",
       " '__doc__',\n",
       " '__file__',\n",
       " '__loader__',\n",
       " '__name__',\n",
       " '__package__',\n",
       " '__path__',\n",
       " '__spec__',\n",
       " 'empiricaldist',\n",
       " 'interp1d',\n",
       " 'np',\n",
       " 'pd',\n",
       " 'plt',\n",
       " 'underride']"
      ]
     },
     "execution_count": 116,
     "metadata": {},
     "output_type": "execute_result"
    }
   ],
   "source": [
    "import empiricaldist\n",
    "\n",
    "dir(empiricaldist)\n"
   ]
  },
  {
   "cell_type": "code",
   "execution_count": null,
   "metadata": {},
   "outputs": [],
   "source": []
  }
 ],
 "metadata": {
  "kernelspec": {
   "display_name": "Python 3",
   "language": "python",
   "name": "python3"
  },
  "language_info": {
   "codemirror_mode": {
    "name": "ipython",
    "version": 3
   },
   "file_extension": ".py",
   "mimetype": "text/x-python",
   "name": "python",
   "nbconvert_exporter": "python",
   "pygments_lexer": "ipython3",
   "version": "3.7.4"
  }
 },
 "nbformat": 4,
 "nbformat_minor": 2
}
