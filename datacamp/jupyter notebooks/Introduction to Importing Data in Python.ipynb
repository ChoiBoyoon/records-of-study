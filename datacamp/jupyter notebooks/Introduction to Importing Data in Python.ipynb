{
 "cells": [
  {
   "cell_type": "code",
   "execution_count": 1,
   "metadata": {},
   "outputs": [
    {
     "name": "stdout",
     "output_type": "stream",
     "text": [
      "[[1. 0. 0. ... 0. 0. 0.]\n",
      " [0. 0. 0. ... 0. 0. 0.]\n",
      " [1. 0. 0. ... 0. 0. 0.]\n",
      " ...\n",
      " [2. 0. 0. ... 0. 0. 0.]\n",
      " [0. 0. 0. ... 0. 0. 0.]\n",
      " [5. 0. 0. ... 0. 0. 0.]]\n"
     ]
    }
   ],
   "source": [
    "import numpy as np\n",
    "mnist_filename = 'mnist_kaggle_some_rows.csv'\n",
    "data = np.loadtxt(mnist_filename, delimiter=',')\n",
    "print(data)"
   ]
  },
  {
   "cell_type": "code",
   "execution_count": 4,
   "metadata": {},
   "outputs": [
    {
     "name": "stdout",
     "output_type": "stream",
     "text": [
      "55\n",
      "6765\n"
     ]
    }
   ],
   "source": [
    "#Fibonacci\n",
    "def fib(n:int)-> int:\n",
    "    if n<2:\n",
    "        return n\n",
    "    return fib(n-2)+fib(n-1)\n",
    "\n",
    "def test():\n",
    "    \n",
    "    if __name__ == \"__main__\":\n",
    "        print(fib(10))    \n",
    "        print(fib(20))    \n",
    "\n",
    "test()"
   ]
  },
  {
   "cell_type": "code",
   "execution_count": 7,
   "metadata": {},
   "outputs": [
    {
     "name": "stdout",
     "output_type": "stream",
     "text": [
      "55\n",
      "6765\n",
      "{0: 0, 1: 1, 2: 1, 3: 2, 4: 3, 5: 5, 6: 8, 7: 13, 8: 21, 9: 34, 10: 55, 11: 89, 12: 144, 13: 233, 14: 377, 15: 610, 16: 987, 17: 1597, 18: 2584, 19: 4181, 20: 6765}\n"
     ]
    }
   ],
   "source": [
    "#using memorization (dict)\n",
    "from typing import Dict\n",
    "memo: Dict[int, int] = {0:0, 1:1}\n",
    "def fib(n:int)->int:\n",
    "    if n not in memo:\n",
    "        memo[n] = fib(n-2)+fib(n-1)\n",
    "    return memo[n]\n",
    "test()\n",
    "print(memo)"
   ]
  },
  {
   "cell_type": "code",
   "execution_count": 9,
   "metadata": {},
   "outputs": [
    {
     "name": "stdout",
     "output_type": "stream",
     "text": [
      "55\n",
      "6765\n"
     ]
    }
   ],
   "source": [
    "#using automatic memorization\n",
    "from functools import lru_cache\n",
    "\n",
    "@lru_cache(maxsize=None)\n",
    "def fib(n:int) -> int:\n",
    "    if n<2:\n",
    "        return n\n",
    "    return fib(n-2)+fib(n-1)\n",
    "\n",
    "test()"
   ]
  },
  {
   "cell_type": "code",
   "execution_count": 10,
   "metadata": {},
   "outputs": [
    {
     "name": "stdout",
     "output_type": "stream",
     "text": [
      "55\n",
      "6765\n"
     ]
    }
   ],
   "source": [
    "#optimal solution(iterative, time complextiy O(n))\n",
    "def fib(n:int) -> int:\n",
    "    if n==0:\n",
    "        return 0\n",
    "    last: int=0\n",
    "    next: int=1\n",
    "    for _ in range(1,n):\n",
    "        last, next = next,last+next\n",
    "    return next\n",
    "\n",
    "test()"
   ]
  },
  {
   "cell_type": "code",
   "execution_count": 13,
   "metadata": {},
   "outputs": [
    {
     "name": "stdout",
     "output_type": "stream",
     "text": [
      "[0]: 0\n",
      "[1]: 1\n",
      "[2]: 2\n",
      "[3]: 3\n",
      "[4]: 5\n",
      "[5]: 8\n",
      "[6]: 13\n",
      "[7]: 21\n",
      "[8]: 34\n",
      "[9]: 55\n",
      "[10]: 89\n",
      "[11]: 144\n",
      "[12]: 233\n",
      "[13]: 377\n",
      "[14]: 610\n",
      "[15]: 987\n",
      "[16]: 1597\n",
      "[17]: 2584\n",
      "[18]: 4181\n",
      "[19]: 6765\n",
      "[20]: 10946\n",
      "[21]: 17711\n",
      "[22]: 28657\n",
      "[23]: 46368\n",
      "[24]: 75025\n",
      "[25]: 121393\n",
      "[26]: 196418\n",
      "[27]: 317811\n",
      "[28]: 514229\n",
      "[29]: 832040\n"
     ]
    }
   ],
   "source": [
    "#optimal solution using Generator\n",
    "from typing import Generator\n",
    "def fib(n:int) -> Generator[int, None, None]:\n",
    "    yield 0\n",
    "    if n==0:\n",
    "        return\n",
    "    last: int=0\n",
    "    next: int=1\n",
    "    for _ in range(1,n):\n",
    "        last, next = next,last+next\n",
    "        yield next\n",
    "        \n",
    "if __name__ == \"__main__\":\n",
    "    for i, v in enumerate(list(fib(30))):\n",
    "        print(\"[{}]: {}\".format(i, v))\n",
    "        \n",
    "        \n",
    "        "
   ]
  },
  {
   "cell_type": "code",
   "execution_count": null,
   "metadata": {},
   "outputs": [],
   "source": []
  }
 ],
 "metadata": {
  "kernelspec": {
   "display_name": "Python 3",
   "language": "python",
   "name": "python3"
  },
  "language_info": {
   "codemirror_mode": {
    "name": "ipython",
    "version": 3
   },
   "file_extension": ".py",
   "mimetype": "text/x-python",
   "name": "python",
   "nbconvert_exporter": "python",
   "pygments_lexer": "ipython3",
   "version": "3.7.4"
  }
 },
 "nbformat": 4,
 "nbformat_minor": 2
}
